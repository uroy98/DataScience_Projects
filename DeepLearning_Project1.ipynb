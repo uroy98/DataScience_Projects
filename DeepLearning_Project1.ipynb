{
  "nbformat": 4,
  "nbformat_minor": 0,
  "metadata": {
    "colab": {
      "provenance": [],
      "collapsed_sections": []
    },
    "kernelspec": {
      "name": "python3",
      "display_name": "Python 3"
    },
    "language_info": {
      "name": "python"
    }
  },
  "cells": [
    {
      "cell_type": "markdown",
      "source": [
        "# **1. Data import and Understanding**"
      ],
      "metadata": {
        "id": "BaCuznkmt1ZV"
      }
    },
    {
      "cell_type": "markdown",
      "source": [
        "### Read the ‘Signals.csv’ as DataFrame and import required libraries."
      ],
      "metadata": {
        "id": "jks7sY-uuVPK"
      }
    },
    {
      "cell_type": "code",
      "source": [
        "import numpy as np # linear algebra\n",
        "import pandas as pd # data processing, CSV file I/O (e.g. pd.read_csv)\n",
        "import matplotlib.pyplot as plt #data visualization\n",
        "import seaborn as sns\n",
        "from sklearn.model_selection import train_test_split # Split data to train and test data(after merging in this case)\n",
        "from sklearn.metrics import accuracy_score,classification_report, confusion_matrix \n",
        "import warnings\n",
        "warnings.filterwarnings('ignore')\n",
        "\n",
        "\n",
        "# import libraries from tensorflow\n",
        "from tensorflow import keras\n",
        "import tensorflow as tf\n",
        "from keras import backend as K\n",
        "from tensorflow.keras.models import Sequential\n",
        "from tensorflow.keras.layers import Flatten, Dense, Dropout,Input, BatchNormalization, LeakyReLU, ReLU\n",
        "from tensorflow.keras import layers\n",
        "from tensorflow.keras import optimizers\n",
        "from keras.utils.vis_utils import plot_model\n",
        "from tensorflow.keras.optimizers import Adam, SGD\n",
        "from tensorflow.keras.callbacks import ModelCheckpoint\n",
        "from tensorflow.keras.initializers import HeUniform"
      ],
      "metadata": {
        "id": "ZKft3nnJtwYT"
      },
      "execution_count": null,
      "outputs": []
    },
    {
      "cell_type": "code",
      "source": [
        "# Import dataset\n",
        "\n",
        "df = pd.read_csv(\"download-2.csv\") #reading the provided dataset\n",
        "df.head()"
      ],
      "metadata": {
        "colab": {
          "base_uri": "https://localhost:8080/",
          "height": 248
        },
        "id": "52gEHobRsIpS",
        "outputId": "3b90e73a-3391-4717-f229-2992f1068aaf"
      },
      "execution_count": null,
      "outputs": [
        {
          "output_type": "execute_result",
          "data": {
            "text/plain": [
              "   Parameter 1  Parameter 2  Parameter 3  Parameter 4  Parameter 5  \\\n",
              "0          7.4         0.70         0.00          1.9        0.076   \n",
              "1          7.8         0.88         0.00          2.6        0.098   \n",
              "2          7.8         0.76         0.04          2.3        0.092   \n",
              "3         11.2         0.28         0.56          1.9        0.075   \n",
              "4          7.4         0.70         0.00          1.9        0.076   \n",
              "\n",
              "   Parameter 6  Parameter 7  Parameter 8  Parameter 9  Parameter 10  \\\n",
              "0         11.0         34.0       0.9978         3.51          0.56   \n",
              "1         25.0         67.0       0.9968         3.20          0.68   \n",
              "2         15.0         54.0       0.9970         3.26          0.65   \n",
              "3         17.0         60.0       0.9980         3.16          0.58   \n",
              "4         11.0         34.0       0.9978         3.51          0.56   \n",
              "\n",
              "   Parameter 11  Signal_Strength  \n",
              "0           9.4                5  \n",
              "1           9.8                5  \n",
              "2           9.8                5  \n",
              "3           9.8                6  \n",
              "4           9.4                5  "
            ],
            "text/html": [
              "\n",
              "  <div id=\"df-01294416-e702-48fa-85de-44f381b63245\">\n",
              "    <div class=\"colab-df-container\">\n",
              "      <div>\n",
              "<style scoped>\n",
              "    .dataframe tbody tr th:only-of-type {\n",
              "        vertical-align: middle;\n",
              "    }\n",
              "\n",
              "    .dataframe tbody tr th {\n",
              "        vertical-align: top;\n",
              "    }\n",
              "\n",
              "    .dataframe thead th {\n",
              "        text-align: right;\n",
              "    }\n",
              "</style>\n",
              "<table border=\"1\" class=\"dataframe\">\n",
              "  <thead>\n",
              "    <tr style=\"text-align: right;\">\n",
              "      <th></th>\n",
              "      <th>Parameter 1</th>\n",
              "      <th>Parameter 2</th>\n",
              "      <th>Parameter 3</th>\n",
              "      <th>Parameter 4</th>\n",
              "      <th>Parameter 5</th>\n",
              "      <th>Parameter 6</th>\n",
              "      <th>Parameter 7</th>\n",
              "      <th>Parameter 8</th>\n",
              "      <th>Parameter 9</th>\n",
              "      <th>Parameter 10</th>\n",
              "      <th>Parameter 11</th>\n",
              "      <th>Signal_Strength</th>\n",
              "    </tr>\n",
              "  </thead>\n",
              "  <tbody>\n",
              "    <tr>\n",
              "      <th>0</th>\n",
              "      <td>7.4</td>\n",
              "      <td>0.70</td>\n",
              "      <td>0.00</td>\n",
              "      <td>1.9</td>\n",
              "      <td>0.076</td>\n",
              "      <td>11.0</td>\n",
              "      <td>34.0</td>\n",
              "      <td>0.9978</td>\n",
              "      <td>3.51</td>\n",
              "      <td>0.56</td>\n",
              "      <td>9.4</td>\n",
              "      <td>5</td>\n",
              "    </tr>\n",
              "    <tr>\n",
              "      <th>1</th>\n",
              "      <td>7.8</td>\n",
              "      <td>0.88</td>\n",
              "      <td>0.00</td>\n",
              "      <td>2.6</td>\n",
              "      <td>0.098</td>\n",
              "      <td>25.0</td>\n",
              "      <td>67.0</td>\n",
              "      <td>0.9968</td>\n",
              "      <td>3.20</td>\n",
              "      <td>0.68</td>\n",
              "      <td>9.8</td>\n",
              "      <td>5</td>\n",
              "    </tr>\n",
              "    <tr>\n",
              "      <th>2</th>\n",
              "      <td>7.8</td>\n",
              "      <td>0.76</td>\n",
              "      <td>0.04</td>\n",
              "      <td>2.3</td>\n",
              "      <td>0.092</td>\n",
              "      <td>15.0</td>\n",
              "      <td>54.0</td>\n",
              "      <td>0.9970</td>\n",
              "      <td>3.26</td>\n",
              "      <td>0.65</td>\n",
              "      <td>9.8</td>\n",
              "      <td>5</td>\n",
              "    </tr>\n",
              "    <tr>\n",
              "      <th>3</th>\n",
              "      <td>11.2</td>\n",
              "      <td>0.28</td>\n",
              "      <td>0.56</td>\n",
              "      <td>1.9</td>\n",
              "      <td>0.075</td>\n",
              "      <td>17.0</td>\n",
              "      <td>60.0</td>\n",
              "      <td>0.9980</td>\n",
              "      <td>3.16</td>\n",
              "      <td>0.58</td>\n",
              "      <td>9.8</td>\n",
              "      <td>6</td>\n",
              "    </tr>\n",
              "    <tr>\n",
              "      <th>4</th>\n",
              "      <td>7.4</td>\n",
              "      <td>0.70</td>\n",
              "      <td>0.00</td>\n",
              "      <td>1.9</td>\n",
              "      <td>0.076</td>\n",
              "      <td>11.0</td>\n",
              "      <td>34.0</td>\n",
              "      <td>0.9978</td>\n",
              "      <td>3.51</td>\n",
              "      <td>0.56</td>\n",
              "      <td>9.4</td>\n",
              "      <td>5</td>\n",
              "    </tr>\n",
              "  </tbody>\n",
              "</table>\n",
              "</div>\n",
              "      <button class=\"colab-df-convert\" onclick=\"convertToInteractive('df-01294416-e702-48fa-85de-44f381b63245')\"\n",
              "              title=\"Convert this dataframe to an interactive table.\"\n",
              "              style=\"display:none;\">\n",
              "        \n",
              "  <svg xmlns=\"http://www.w3.org/2000/svg\" height=\"24px\"viewBox=\"0 0 24 24\"\n",
              "       width=\"24px\">\n",
              "    <path d=\"M0 0h24v24H0V0z\" fill=\"none\"/>\n",
              "    <path d=\"M18.56 5.44l.94 2.06.94-2.06 2.06-.94-2.06-.94-.94-2.06-.94 2.06-2.06.94zm-11 1L8.5 8.5l.94-2.06 2.06-.94-2.06-.94L8.5 2.5l-.94 2.06-2.06.94zm10 10l.94 2.06.94-2.06 2.06-.94-2.06-.94-.94-2.06-.94 2.06-2.06.94z\"/><path d=\"M17.41 7.96l-1.37-1.37c-.4-.4-.92-.59-1.43-.59-.52 0-1.04.2-1.43.59L10.3 9.45l-7.72 7.72c-.78.78-.78 2.05 0 2.83L4 21.41c.39.39.9.59 1.41.59.51 0 1.02-.2 1.41-.59l7.78-7.78 2.81-2.81c.8-.78.8-2.07 0-2.86zM5.41 20L4 18.59l7.72-7.72 1.47 1.35L5.41 20z\"/>\n",
              "  </svg>\n",
              "      </button>\n",
              "      \n",
              "  <style>\n",
              "    .colab-df-container {\n",
              "      display:flex;\n",
              "      flex-wrap:wrap;\n",
              "      gap: 12px;\n",
              "    }\n",
              "\n",
              "    .colab-df-convert {\n",
              "      background-color: #E8F0FE;\n",
              "      border: none;\n",
              "      border-radius: 50%;\n",
              "      cursor: pointer;\n",
              "      display: none;\n",
              "      fill: #1967D2;\n",
              "      height: 32px;\n",
              "      padding: 0 0 0 0;\n",
              "      width: 32px;\n",
              "    }\n",
              "\n",
              "    .colab-df-convert:hover {\n",
              "      background-color: #E2EBFA;\n",
              "      box-shadow: 0px 1px 2px rgba(60, 64, 67, 0.3), 0px 1px 3px 1px rgba(60, 64, 67, 0.15);\n",
              "      fill: #174EA6;\n",
              "    }\n",
              "\n",
              "    [theme=dark] .colab-df-convert {\n",
              "      background-color: #3B4455;\n",
              "      fill: #D2E3FC;\n",
              "    }\n",
              "\n",
              "    [theme=dark] .colab-df-convert:hover {\n",
              "      background-color: #434B5C;\n",
              "      box-shadow: 0px 1px 3px 1px rgba(0, 0, 0, 0.15);\n",
              "      filter: drop-shadow(0px 1px 2px rgba(0, 0, 0, 0.3));\n",
              "      fill: #FFFFFF;\n",
              "    }\n",
              "  </style>\n",
              "\n",
              "      <script>\n",
              "        const buttonEl =\n",
              "          document.querySelector('#df-01294416-e702-48fa-85de-44f381b63245 button.colab-df-convert');\n",
              "        buttonEl.style.display =\n",
              "          google.colab.kernel.accessAllowed ? 'block' : 'none';\n",
              "\n",
              "        async function convertToInteractive(key) {\n",
              "          const element = document.querySelector('#df-01294416-e702-48fa-85de-44f381b63245');\n",
              "          const dataTable =\n",
              "            await google.colab.kernel.invokeFunction('convertToInteractive',\n",
              "                                                     [key], {});\n",
              "          if (!dataTable) return;\n",
              "\n",
              "          const docLinkHtml = 'Like what you see? Visit the ' +\n",
              "            '<a target=\"_blank\" href=https://colab.research.google.com/notebooks/data_table.ipynb>data table notebook</a>'\n",
              "            + ' to learn more about interactive tables.';\n",
              "          element.innerHTML = '';\n",
              "          dataTable['output_type'] = 'display_data';\n",
              "          await google.colab.output.renderOutput(dataTable, element);\n",
              "          const docLink = document.createElement('div');\n",
              "          docLink.innerHTML = docLinkHtml;\n",
              "          element.appendChild(docLink);\n",
              "        }\n",
              "      </script>\n",
              "    </div>\n",
              "  </div>\n",
              "  "
            ]
          },
          "metadata": {},
          "execution_count": 6
        }
      ]
    },
    {
      "cell_type": "markdown",
      "source": [
        "### Check for missing values and print percentage for each attribute."
      ],
      "metadata": {
        "id": "Dk0YTzlBuxWs"
      }
    },
    {
      "cell_type": "code",
      "source": [
        "df.isnull().sum() #displays number of null values in each column"
      ],
      "metadata": {
        "colab": {
          "base_uri": "https://localhost:8080/"
        },
        "id": "TyqfMxUxtvXp",
        "outputId": "bc96ab84-37d9-4f11-a0f5-bc67cd259bad"
      },
      "execution_count": null,
      "outputs": [
        {
          "output_type": "execute_result",
          "data": {
            "text/plain": [
              "Parameter 1        0\n",
              "Parameter 2        0\n",
              "Parameter 3        0\n",
              "Parameter 4        0\n",
              "Parameter 5        0\n",
              "Parameter 6        0\n",
              "Parameter 7        0\n",
              "Parameter 8        0\n",
              "Parameter 9        0\n",
              "Parameter 10       0\n",
              "Parameter 11       0\n",
              "Signal_Strength    0\n",
              "dtype: int64"
            ]
          },
          "metadata": {},
          "execution_count": 7
        }
      ]
    },
    {
      "cell_type": "code",
      "source": [
        "df.isnull().sum()/(len(df))*100 #displays the percentage of null values of each column"
      ],
      "metadata": {
        "colab": {
          "base_uri": "https://localhost:8080/"
        },
        "id": "eq21KTTnsIxh",
        "outputId": "9322de3c-f5a8-48b6-d609-c4adeb22c4d8"
      },
      "execution_count": null,
      "outputs": [
        {
          "output_type": "execute_result",
          "data": {
            "text/plain": [
              "Parameter 1        0.0\n",
              "Parameter 2        0.0\n",
              "Parameter 3        0.0\n",
              "Parameter 4        0.0\n",
              "Parameter 5        0.0\n",
              "Parameter 6        0.0\n",
              "Parameter 7        0.0\n",
              "Parameter 8        0.0\n",
              "Parameter 9        0.0\n",
              "Parameter 10       0.0\n",
              "Parameter 11       0.0\n",
              "Signal_Strength    0.0\n",
              "dtype: float64"
            ]
          },
          "metadata": {},
          "execution_count": 8
        }
      ]
    },
    {
      "cell_type": "markdown",
      "source": [
        "There are no missing values in the dataset"
      ],
      "metadata": {
        "id": "kBLWFtlc_JB1"
      }
    },
    {
      "cell_type": "markdown",
      "source": [
        "### Check for presence of duplicate records in the dataset and impute with appropriate method."
      ],
      "metadata": {
        "id": "uU4O9_szvInm"
      }
    },
    {
      "cell_type": "code",
      "source": [
        "len(df[df.duplicated()]) #checking for any duplicate rows"
      ],
      "metadata": {
        "colab": {
          "base_uri": "https://localhost:8080/"
        },
        "id": "NDb43MV3sI0D",
        "outputId": "b4a1c652-f3f5-4874-964b-11b7bf214e56"
      },
      "execution_count": null,
      "outputs": [
        {
          "output_type": "execute_result",
          "data": {
            "text/plain": [
              "240"
            ]
          },
          "metadata": {},
          "execution_count": 9
        }
      ]
    },
    {
      "cell_type": "markdown",
      "source": [
        "- There are 240 duplicate records. It needs to be dropped."
      ],
      "metadata": {
        "id": "7oPh6rH3vWO_"
      }
    },
    {
      "cell_type": "code",
      "source": [
        "df = df.drop_duplicates()"
      ],
      "metadata": {
        "id": "iIPetyOasI2i"
      },
      "execution_count": null,
      "outputs": []
    },
    {
      "cell_type": "code",
      "source": [
        "len(df[df.duplicated()]) #checking again for any duplicate rows after dropping them"
      ],
      "metadata": {
        "colab": {
          "base_uri": "https://localhost:8080/"
        },
        "id": "kiGijKWZsI4_",
        "outputId": "fcabe558-c3aa-4567-b1c3-379f00a99070"
      },
      "execution_count": null,
      "outputs": [
        {
          "output_type": "execute_result",
          "data": {
            "text/plain": [
              "0"
            ]
          },
          "metadata": {},
          "execution_count": 11
        }
      ]
    },
    {
      "cell_type": "markdown",
      "source": [
        "- There were 240 duplicate records. These are now successfully removed."
      ],
      "metadata": {
        "id": "uyXzSV69vhHT"
      }
    },
    {
      "cell_type": "markdown",
      "source": [
        "### Visualize distribution of the target variable."
      ],
      "metadata": {
        "id": "N8jLbnPnvrN3"
      }
    },
    {
      "cell_type": "code",
      "source": [
        "sns.countplot(x = 'Signal_Strength', data = df)"
      ],
      "metadata": {
        "colab": {
          "base_uri": "https://localhost:8080/",
          "height": 299
        },
        "id": "51dp3ZwZsI7T",
        "outputId": "bdadafaa-c705-4687-f9b0-5f79aab028db"
      },
      "execution_count": null,
      "outputs": [
        {
          "output_type": "execute_result",
          "data": {
            "text/plain": [
              "<matplotlib.axes._subplots.AxesSubplot at 0x7ff91fc8dad0>"
            ]
          },
          "metadata": {},
          "execution_count": 12
        },
        {
          "output_type": "display_data",
          "data": {
            "text/plain": [
              "<Figure size 432x288 with 1 Axes>"
            ],
            "image/png": "[encoded data removed]"
          },
          "metadata": {
            "needs_background": "light"
          }
        }
      ]
    },
    {
      "cell_type": "markdown",
      "source": [
        "The target variable Signal_Strength is highly imbalanced.\n",
        "\n",
        "Most of the data are present for Signal strength 5 as compared to others.\n",
        "\n"
      ],
      "metadata": {
        "id": "O3McOHInwSlv"
      }
    },
    {
      "cell_type": "markdown",
      "source": [
        "### Share insights from the initial data analysis"
      ],
      "metadata": {
        "id": "BDTl6LZjwuiI"
      }
    },
    {
      "cell_type": "markdown",
      "source": [
        "1.   There are no missing values in the dataset.\n",
        "2. There were 240 duplicate records in the dataset which are now successfully removed.\n",
        "3.   The target variable is highly imbalanced and using this may result in a biased model. We need to handle this using either oversampling or undersampling."
      ],
      "metadata": {
        "id": "LirQHgrixX3B"
      }
    },
    {
      "cell_type": "markdown",
      "source": [
        "# 2. Data preprocessing"
      ],
      "metadata": {
        "id": "15tnBLXw_efe"
      }
    },
    {
      "cell_type": "markdown",
      "source": [
        "### Split the data into X & Y."
      ],
      "metadata": {
        "id": "Yucf66t-_iuW"
      }
    },
    {
      "cell_type": "code",
      "source": [
        "df_copy = df.copy()"
      ],
      "metadata": {
        "id": "FpW9ybrHwgT0"
      },
      "execution_count": null,
      "outputs": []
    },
    {
      "cell_type": "code",
      "source": [
        "# separate independent variables in the X variable\n",
        "X = df.drop('Signal_Strength',axis=1)\n",
        "# separate target column (i.e. Signal_Strength) in the Y variable\n",
        "Y = df['Signal_Strength']"
      ],
      "metadata": {
        "id": "G6panwvuwgWc"
      },
      "execution_count": null,
      "outputs": []
    },
    {
      "cell_type": "code",
      "source": [
        "X_copy = X.copy()\n",
        "Y_copy = Y.copy()"
      ],
      "metadata": {
        "id": "2g6-doq3eSO_"
      },
      "execution_count": null,
      "outputs": []
    },
    {
      "cell_type": "markdown",
      "source": [
        "### Split the data into train & test with 70:30 proportion."
      ],
      "metadata": {
        "id": "T8i_APyRAsRh"
      }
    },
    {
      "cell_type": "code",
      "source": [
        "X_train, X_test, Y_train, Y_test = train_test_split(X, Y , test_size = 0.3, random_state =42)\n",
        "X_train2, X_val, Y_train2, Y_val = train_test_split(X_train, Y_train, test_size = 0.3, random_state =42)"
      ],
      "metadata": {
        "id": "B3RnNIm40Zjv"
      },
      "execution_count": null,
      "outputs": []
    },
    {
      "cell_type": "markdown",
      "source": [
        "### Print shape of all the 4 variables and verify if train and test data is in sync."
      ],
      "metadata": {
        "id": "uGkMT2j5BY8y"
      }
    },
    {
      "cell_type": "code",
      "source": [
        "# Checking the shape of data\n",
        "X_train2.shape,X_test.shape, Y_train2.shape,Y_test.shape"
      ],
      "metadata": {
        "colab": {
          "base_uri": "https://localhost:8080/"
        },
        "id": "LxMYNK8cBTFs",
        "outputId": "13954875-a79a-4221-9c7d-8fa642999cb6"
      },
      "execution_count": null,
      "outputs": [
        {
          "output_type": "execute_result",
          "data": {
            "text/plain": [
              "((665, 11), (408, 11), (665,), (408,))"
            ]
          },
          "metadata": {},
          "execution_count": 16
        }
      ]
    },
    {
      "cell_type": "markdown",
      "source": [
        "The train and test data are in sync"
      ],
      "metadata": {
        "id": "nmbQSACzBogr"
      }
    },
    {
      "cell_type": "markdown",
      "source": [
        "### Normalize the train and test data with appropriate method."
      ],
      "metadata": {
        "id": "YsaE-aHsBwJI"
      }
    },
    {
      "cell_type": "code",
      "source": [
        "## Scaling the data using standard scalar\n",
        "from sklearn.preprocessing import StandardScaler\n",
        "ss = StandardScaler()\n",
        "\n",
        "X_train_sc = ss.fit_transform(X_train2)\n",
        "X_val_sc = ss.transform(X_val)\n",
        "X_test_sc = ss.transform(X_test)\n",
        "\n",
        "print(X_train_sc.shape,X_val_sc.shape)\n",
        "print(len(ss.var_))"
      ],
      "metadata": {
        "colab": {
          "base_uri": "https://localhost:8080/"
        },
        "id": "_zhrkIG_BTJc",
        "outputId": "f6cee333-546e-426f-ce0c-255a4495a7d8"
      },
      "execution_count": null,
      "outputs": [
        {
          "output_type": "stream",
          "name": "stdout",
          "text": [
            "(665, 11) (286, 11)\n",
            "11\n"
          ]
        }
      ]
    },
    {
      "cell_type": "markdown",
      "source": [
        "### Transform Labels into format acceptable by Neural Network."
      ],
      "metadata": {
        "id": "KTArbo6QChDa"
      }
    },
    {
      "cell_type": "code",
      "source": [
        "from sklearn.preprocessing import LabelEncoder\n",
        "le = LabelEncoder()\n",
        "Y_train_en = le.fit_transform(Y_train2)\n",
        "Y_val_en = le.transform(Y_val)\n",
        "Y_test_en = le.transform(Y_test)\n",
        "print(le.classes_)"
      ],
      "metadata": {
        "colab": {
          "base_uri": "https://localhost:8080/"
        },
        "id": "mCQEGkmnKSn_",
        "outputId": "fe1c46da-393d-444c-9c68-5219737f7729"
      },
      "execution_count": null,
      "outputs": [
        {
          "output_type": "stream",
          "name": "stdout",
          "text": [
            "[3 4 5 6 7 8]\n"
          ]
        }
      ]
    },
    {
      "cell_type": "code",
      "source": [
        "## One hot encoding of the target columns\n",
        "Y_train=tf.keras.utils.to_categorical(Y_train_en)\n",
        "Y_val=tf.keras.utils.to_categorical(Y_val_en)\n",
        "Y_test=tf.keras.utils.to_categorical(Y_test_en)"
      ],
      "metadata": {
        "id": "8eQM6tNzBTRj"
      },
      "execution_count": null,
      "outputs": []
    },
    {
      "cell_type": "code",
      "source": [
        "Y_train2.shape"
      ],
      "metadata": {
        "colab": {
          "base_uri": "https://localhost:8080/"
        },
        "id": "xd-3aG3DGJhx",
        "outputId": "c81b0910-d3e2-483f-fb98-0e1000591e3c"
      },
      "execution_count": null,
      "outputs": [
        {
          "output_type": "execute_result",
          "data": {
            "text/plain": [
              "(665,)"
            ]
          },
          "metadata": {},
          "execution_count": 20
        }
      ]
    },
    {
      "cell_type": "markdown",
      "source": [
        "# 3. Model Training & Evaluation using Neural Network"
      ],
      "metadata": {
        "id": "eX8M_A7CDBhI"
      }
    },
    {
      "cell_type": "markdown",
      "source": [
        "### Design a Neural Network to train a classifier"
      ],
      "metadata": {
        "id": "DjlRIWQhDE9z"
      }
    },
    {
      "cell_type": "code",
      "source": [
        "#Intialize the model\n",
        "model = Sequential([Input(shape=(11,)),  ## Input layer\n",
        "                   Dense(128, activation='relu'), #hidden layer-1\n",
        "                   Dense(56, activation='relu'), #hidden layer-2\n",
        "                   Dense(28, activation='relu'),\n",
        "                   Dense(6, activation='softmax')]) ## Output layer with 6 neurons\n"
      ],
      "metadata": {
        "id": "zlsDgZvHCjmO"
      },
      "execution_count": null,
      "outputs": []
    },
    {
      "cell_type": "code",
      "source": [
        "# Model Summary\n",
        "model.summary()"
      ],
      "metadata": {
        "id": "YGq81kRVCjrD",
        "colab": {
          "base_uri": "https://localhost:8080/"
        },
        "outputId": "48e26cdf-ed20-4045-89ae-c4a43ccbca7b"
      },
      "execution_count": null,
      "outputs": [
        {
          "output_type": "stream",
          "name": "stdout",
          "text": [
            "Model: \"sequential\"\n",
            "_________________________________________________________________\n",
            " Layer (type)                Output Shape              Param #   \n",
            "=================================================================\n",
            " dense (Dense)               (None, 128)               1536      \n",
            "                                                                 \n",
            " dense_1 (Dense)             (None, 56)                7224      \n",
            "                                                                 \n",
            " dense_2 (Dense)             (None, 28)                1596      \n",
            "                                                                 \n",
            " dense_3 (Dense)             (None, 6)                 174       \n",
            "                                                                 \n",
            "=================================================================\n",
            "Total params: 10,530\n",
            "Trainable params: 10,530\n",
            "Non-trainable params: 0\n",
            "_________________________________________________________________\n"
          ]
        }
      ]
    },
    {
      "cell_type": "code",
      "source": [
        "callback = tf.keras.callbacks.EarlyStopping(monitor='val_loss', patience = 2,restore_best_weights=True)\n",
        "model.compile(optimizer=tf.keras.optimizers.Adam(learning_rate=0.002), \n",
        "              loss='categorical_crossentropy', metrics=['accuracy'])"
      ],
      "metadata": {
        "id": "p8odqEPdCjxs"
      },
      "execution_count": null,
      "outputs": []
    },
    {
      "cell_type": "markdown",
      "source": [
        "### Train the classifier using previously designed Architecture."
      ],
      "metadata": {
        "id": "rAb31hkSUncZ"
      }
    },
    {
      "cell_type": "code",
      "source": [
        "# Fitting the model\n",
        "train = model.fit(X_train_sc, Y_train,validation_data=(X_val_sc,Y_val),epochs=20,batch_size=10,callbacks=callback)"
      ],
      "metadata": {
        "colab": {
          "base_uri": "https://localhost:8080/"
        },
        "id": "Xll92GHVE-tG",
        "outputId": "a81b253d-a3ce-411c-f669-ec090571d930"
      },
      "execution_count": null,
      "outputs": [
        {
          "output_type": "stream",
          "name": "stdout",
          "text": [
            "Epoch 1/20\n",
            "67/67 [==============================] - 1s 6ms/step - loss: 1.2857 - accuracy: 0.4872 - val_loss: 1.0652 - val_accuracy: 0.5629\n",
            "Epoch 2/20\n",
            "67/67 [==============================] - 0s 4ms/step - loss: 1.0264 - accuracy: 0.5744 - val_loss: 1.0506 - val_accuracy: 0.5699\n",
            "Epoch 3/20\n",
            "67/67 [==============================] - 0s 4ms/step - loss: 0.9819 - accuracy: 0.5850 - val_loss: 1.0668 - val_accuracy: 0.5839\n",
            "Epoch 4/20\n",
            "67/67 [==============================] - 0s 4ms/step - loss: 0.9506 - accuracy: 0.5789 - val_loss: 1.0781 - val_accuracy: 0.5420\n"
          ]
        }
      ]
    },
    {
      "cell_type": "code",
      "source": [
        "# Predicting X_test basis the built model\n",
        "y_pred = np.argmax(model.predict(X_test_sc), axis=1)\n",
        "y_pred"
      ],
      "metadata": {
        "colab": {
          "base_uri": "https://localhost:8080/"
        },
        "id": "qJwdBlWqXHLz",
        "outputId": "0c369735-225e-4a4b-f32d-6fa3c0a22643"
      },
      "execution_count": null,
      "outputs": [
        {
          "output_type": "execute_result",
          "data": {
            "text/plain": [
              "array([2, 3, 4, 2, 3, 4, 3, 2, 3, 2, 3, 3, 3, 3, 4, 2, 3, 2, 2, 3, 2, 3,\n",
              "       2, 2, 3, 2, 3, 2, 2, 3, 3, 3, 3, 2, 3, 3, 2, 3, 2, 3, 3, 3, 3, 2,\n",
              "       2, 3, 2, 2, 2, 3, 3, 3, 3, 2, 4, 2, 3, 2, 2, 3, 2, 3, 2, 3, 3, 3,\n",
              "       2, 2, 3, 3, 2, 4, 3, 3, 3, 2, 2, 2, 2, 3, 3, 3, 2, 2, 2, 4, 2, 2,\n",
              "       3, 3, 3, 3, 3, 2, 3, 2, 3, 4, 3, 2, 2, 2, 2, 3, 3, 2, 3, 3, 4, 4,\n",
              "       3, 3, 2, 3, 2, 3, 3, 2, 2, 4, 2, 3, 3, 2, 3, 3, 2, 2, 2, 2, 2, 2,\n",
              "       3, 3, 2, 3, 4, 3, 3, 2, 2, 2, 4, 3, 3, 3, 3, 2, 3, 3, 2, 3, 3, 2,\n",
              "       2, 3, 3, 2, 4, 4, 3, 3, 3, 3, 2, 4, 3, 2, 3, 3, 4, 3, 3, 3, 4, 3,\n",
              "       3, 2, 2, 4, 2, 3, 2, 3, 2, 3, 3, 2, 2, 3, 3, 2, 4, 2, 2, 2, 4, 2,\n",
              "       4, 4, 2, 4, 2, 4, 3, 4, 2, 2, 2, 3, 4, 3, 3, 2, 3, 3, 4, 3, 2, 3,\n",
              "       2, 3, 2, 3, 2, 3, 4, 3, 2, 3, 3, 3, 3, 2, 3, 4, 3, 3, 3, 2, 2, 3,\n",
              "       2, 2, 4, 2, 3, 3, 3, 4, 2, 2, 4, 3, 3, 3, 2, 2, 3, 3, 4, 3, 2, 2,\n",
              "       3, 2, 3, 3, 2, 3, 3, 2, 4, 2, 2, 2, 2, 3, 3, 2, 3, 3, 3, 3, 3, 2,\n",
              "       3, 2, 3, 3, 2, 3, 3, 2, 3, 2, 2, 4, 3, 2, 3, 4, 2, 2, 3, 3, 3, 2,\n",
              "       3, 2, 2, 2, 3, 3, 3, 3, 3, 3, 3, 3, 3, 3, 3, 2, 2, 3, 2, 3, 3, 2,\n",
              "       3, 3, 3, 3, 2, 2, 3, 3, 3, 3, 3, 2, 4, 3, 3, 2, 3, 2, 3, 3, 2, 3,\n",
              "       3, 4, 3, 3, 3, 3, 2, 2, 2, 3, 3, 3, 3, 3, 3, 3, 3, 4, 3, 4, 3, 3,\n",
              "       3, 3, 3, 3, 3, 3, 3, 3, 2, 4, 3, 2, 2, 3, 2, 3, 3, 2, 3, 2, 3, 3,\n",
              "       3, 3, 3, 3, 2, 3, 3, 2, 4, 3, 4, 4])"
            ]
          },
          "metadata": {},
          "execution_count": 25
        }
      ]
    },
    {
      "cell_type": "code",
      "source": [
        "# Final evaluation of the model\n",
        "scores = model.evaluate(X_test_sc, Y_test, verbose=0)\n",
        "print(\"Loss:\", scores[0])\n",
        "print(\"Accuracy:\", scores[1])"
      ],
      "metadata": {
        "colab": {
          "base_uri": "https://localhost:8080/"
        },
        "id": "XZx5XtaVYGuZ",
        "outputId": "346bcfee-54d8-4d38-ff0d-6d1f0775af64"
      },
      "execution_count": null,
      "outputs": [
        {
          "output_type": "stream",
          "name": "stdout",
          "text": [
            "Loss: 0.9971228241920471\n",
            "Accuracy: 0.5882353186607361\n"
          ]
        }
      ]
    },
    {
      "cell_type": "code",
      "source": [
        "from sklearn import metrics\n",
        "from sklearn.metrics import average_precision_score, confusion_matrix, accuracy_score, classification_report, plot_confusion_matrix\n",
        "confusion_matrix(Y_test_en, y_pred)"
      ],
      "metadata": {
        "colab": {
          "base_uri": "https://localhost:8080/"
        },
        "id": "U26gLN8Y3LFU",
        "outputId": "8edee379-27cb-43a2-bf66-3b287406faa2"
      },
      "execution_count": null,
      "outputs": [
        {
          "output_type": "execute_result",
          "data": {
            "text/plain": [
              "array([[  0,   0,   2,   3,   0,   0],\n",
              "       [  0,   0,   4,   9,   0,   0],\n",
              "       [  0,   0, 104,  68,   0,   0],\n",
              "       [  0,   0,  35, 112,  17,   0],\n",
              "       [  0,   0,   1,  25,  24,   0],\n",
              "       [  0,   0,   0,   1,   3,   0]])"
            ]
          },
          "metadata": {},
          "execution_count": 27
        }
      ]
    },
    {
      "cell_type": "markdown",
      "source": [
        "### Plot 2 separate visuals.\n",
        "  1. Training Loss and Validation Loss"
      ],
      "metadata": {
        "id": "xYx0O1zPUuzT"
      }
    },
    {
      "cell_type": "code",
      "source": [
        "import matplotlib.pyplot as plt\n",
        "# summarize history for loss\n",
        "plt.plot(train.history['loss'])\n",
        "plt.plot(train.history['val_loss'])\n",
        "plt.title('model loss')\n",
        "plt.ylabel('loss')\n",
        "plt.xlabel('epoch')\n",
        "plt.legend(['train', 'val'], loc='upper left')\n",
        "plt.show()"
      ],
      "metadata": {
        "id": "DIXZgnGAE-vq",
        "colab": {
          "base_uri": "https://localhost:8080/",
          "height": 295
        },
        "outputId": "574827ab-6918-4930-e4ea-e97d901c4b7c"
      },
      "execution_count": null,
      "outputs": [
        {
          "output_type": "display_data",
          "data": {
            "text/plain": [
              "<Figure size 432x288 with 1 Axes>"
            ],
            "image/png": "[encoded data removed]"
          },
          "metadata": {
            "needs_background": "light"
          }
        }
      ]
    },
    {
      "cell_type": "markdown",
      "source": [
        "2. Training Accuracy and Validation Accuracy"
      ],
      "metadata": {
        "id": "15vMEPocVt0v"
      }
    },
    {
      "cell_type": "code",
      "source": [
        "import matplotlib.pyplot as plt\n",
        "\n",
        "plt.plot(train.history['accuracy'])\n",
        "plt.plot(train.history['val_accuracy'])\n",
        "plt.title('model accuracy')\n",
        "plt.ylabel('accuracy')\n",
        "plt.xlabel('epoch')\n",
        "plt.legend(['train', 'Val'], loc='upper left')\n",
        "plt.show()"
      ],
      "metadata": {
        "id": "rNn2IPkDE-08",
        "colab": {
          "base_uri": "https://localhost:8080/",
          "height": 295
        },
        "outputId": "844f7de1-e84a-407a-d65f-1ed1fbc502b0"
      },
      "execution_count": null,
      "outputs": [
        {
          "output_type": "display_data",
          "data": {
            "text/plain": [
              "<Figure size 432x288 with 1 Axes>"
            ],
            "image/png": "[encoded data removed]"
          },
          "metadata": {
            "needs_background": "light"
          }
        }
      ]
    },
    {
      "cell_type": "markdown",
      "source": [
        "- The training loss is 0.9506 and validation loss is 1.0781\n",
        "- The training accuracy is 0.5789 and validation accuracy is 0.5420"
      ],
      "metadata": {
        "id": "0ZRkNF8CWEI6"
      }
    },
    {
      "cell_type": "markdown",
      "source": [
        "### Design new architecture/update existing architecture in attempt to improve the performance of the model."
      ],
      "metadata": {
        "id": "myT9PhcVV-x1"
      }
    },
    {
      "cell_type": "markdown",
      "source": [
        "### **Model Building with dropout**"
      ],
      "metadata": {
        "id": "293lKe81ar1Q"
      }
    },
    {
      "cell_type": "code",
      "source": [
        "#Intialize the model\n",
        "model2 = Sequential([Input(shape=(11,)),  ## Input layer\n",
        "                   Dense(150, activation='relu'), #hidden layer-1\n",
        "                   Dropout(0.1), #dropout after hidden layer 1\n",
        "                   Dense(70, activation='relu'), #hidden layer-2\n",
        "                   Dropout(0.1), #dropout after hidden layer 2\n",
        "                   Dense(50, activation='relu'), #hidden layer 3\n",
        "                   Dropout(0.1), #dropout after hidden layer 3\n",
        "                   Dense(6, activation='softmax')]) ## Output layer with 6 neurons"
      ],
      "metadata": {
        "id": "O8CMOc2_aLfI"
      },
      "execution_count": null,
      "outputs": []
    },
    {
      "cell_type": "code",
      "source": [
        "# Model Summary\n",
        "model2.summary()"
      ],
      "metadata": {
        "colab": {
          "base_uri": "https://localhost:8080/"
        },
        "id": "yAvYFaK5aLiC",
        "outputId": "d2de8091-2fb7-41d0-9205-7a50d469b126"
      },
      "execution_count": null,
      "outputs": [
        {
          "output_type": "stream",
          "name": "stdout",
          "text": [
            "Model: \"sequential_7\"\n",
            "_________________________________________________________________\n",
            " Layer (type)                Output Shape              Param #   \n",
            "=================================================================\n",
            " dense_28 (Dense)            (None, 150)               1800      \n",
            "                                                                 \n",
            " dropout_15 (Dropout)        (None, 150)               0         \n",
            "                                                                 \n",
            " dense_29 (Dense)            (None, 70)                10570     \n",
            "                                                                 \n",
            " dropout_16 (Dropout)        (None, 70)                0         \n",
            "                                                                 \n",
            " dense_30 (Dense)            (None, 50)                3550      \n",
            "                                                                 \n",
            " dropout_17 (Dropout)        (None, 50)                0         \n",
            "                                                                 \n",
            " dense_31 (Dense)            (None, 6)                 306       \n",
            "                                                                 \n",
            "=================================================================\n",
            "Total params: 16,226\n",
            "Trainable params: 16,226\n",
            "Non-trainable params: 0\n",
            "_________________________________________________________________\n"
          ]
        }
      ]
    },
    {
      "cell_type": "code",
      "source": [
        "chkpt = ModelCheckpoint('/content/checkpoint', monitor='val_loss', save_best_only=True,save_freq='epoch')\n",
        "callback_new1 = tf.keras.callbacks.EarlyStopping(monitor='val_loss',restore_best_weights=True)\n",
        "model2.compile(optimizer=tf.keras.optimizers.Adam(learning_rate=0.0001234), \n",
        "              loss='categorical_crossentropy', metrics=['accuracy']) "
      ],
      "metadata": {
        "id": "eSWzcdpfhbEm"
      },
      "execution_count": null,
      "outputs": []
    },
    {
      "cell_type": "code",
      "source": [
        "# Fitting the model\n",
        "train2 = model2.fit(X_train_sc, Y_train, \n",
        "                  validation_data=(X_val_sc,Y_val), \n",
        "                  epochs=50,batch_size=40)"
      ],
      "metadata": {
        "colab": {
          "base_uri": "https://localhost:8080/"
        },
        "id": "DlYfL_49aLoH",
        "outputId": "d1a7362c-3082-4dc9-e242-af3278be03b7"
      },
      "execution_count": null,
      "outputs": [
        {
          "output_type": "stream",
          "name": "stdout",
          "text": [
            "Epoch 1/50\n",
            "17/17 [==============================] - 0s 10ms/step - loss: 1.4260 - accuracy: 0.5038 - val_loss: 1.3767 - val_accuracy: 0.5175\n",
            "Epoch 2/50\n",
            "17/17 [==============================] - 0s 5ms/step - loss: 1.3854 - accuracy: 0.5263 - val_loss: 1.3309 - val_accuracy: 0.5245\n",
            "Epoch 3/50\n",
            "17/17 [==============================] - 0s 5ms/step - loss: 1.3384 - accuracy: 0.5263 - val_loss: 1.2879 - val_accuracy: 0.5245\n",
            "Epoch 4/50\n",
            "17/17 [==============================] - 0s 6ms/step - loss: 1.3085 - accuracy: 0.5429 - val_loss: 1.2502 - val_accuracy: 0.5385\n",
            "Epoch 5/50\n",
            "17/17 [==============================] - 0s 5ms/step - loss: 1.2633 - accuracy: 0.5519 - val_loss: 1.2176 - val_accuracy: 0.5385\n",
            "Epoch 6/50\n",
            "17/17 [==============================] - 0s 5ms/step - loss: 1.2421 - accuracy: 0.5278 - val_loss: 1.1901 - val_accuracy: 0.5490\n",
            "Epoch 7/50\n",
            "17/17 [==============================] - 0s 5ms/step - loss: 1.2157 - accuracy: 0.5459 - val_loss: 1.1657 - val_accuracy: 0.5594\n",
            "Epoch 8/50\n",
            "17/17 [==============================] - 0s 4ms/step - loss: 1.1853 - accuracy: 0.5474 - val_loss: 1.1454 - val_accuracy: 0.5664\n",
            "Epoch 9/50\n",
            "17/17 [==============================] - 0s 4ms/step - loss: 1.1626 - accuracy: 0.5609 - val_loss: 1.1295 - val_accuracy: 0.5664\n",
            "Epoch 10/50\n",
            "17/17 [==============================] - 0s 6ms/step - loss: 1.1384 - accuracy: 0.5684 - val_loss: 1.1155 - val_accuracy: 0.5699\n",
            "Epoch 11/50\n",
            "17/17 [==============================] - 0s 4ms/step - loss: 1.1319 - accuracy: 0.5459 - val_loss: 1.1047 - val_accuracy: 0.5699\n",
            "Epoch 12/50\n",
            "17/17 [==============================] - 0s 5ms/step - loss: 1.1170 - accuracy: 0.5714 - val_loss: 1.0948 - val_accuracy: 0.5664\n",
            "Epoch 13/50\n",
            "17/17 [==============================] - 0s 5ms/step - loss: 1.0993 - accuracy: 0.5609 - val_loss: 1.0849 - val_accuracy: 0.5699\n",
            "Epoch 14/50\n",
            "17/17 [==============================] - 0s 9ms/step - loss: 1.0860 - accuracy: 0.5579 - val_loss: 1.0776 - val_accuracy: 0.5769\n",
            "Epoch 15/50\n",
            "17/17 [==============================] - 0s 6ms/step - loss: 1.0983 - accuracy: 0.5714 - val_loss: 1.0735 - val_accuracy: 0.5734\n",
            "Epoch 16/50\n",
            "17/17 [==============================] - 0s 6ms/step - loss: 1.0777 - accuracy: 0.5774 - val_loss: 1.0709 - val_accuracy: 0.5734\n",
            "Epoch 17/50\n",
            "17/17 [==============================] - 0s 6ms/step - loss: 1.0738 - accuracy: 0.5744 - val_loss: 1.0650 - val_accuracy: 0.5734\n",
            "Epoch 18/50\n",
            "17/17 [==============================] - 0s 5ms/step - loss: 1.0578 - accuracy: 0.5865 - val_loss: 1.0614 - val_accuracy: 0.5699\n",
            "Epoch 19/50\n",
            "17/17 [==============================] - 0s 7ms/step - loss: 1.0548 - accuracy: 0.5579 - val_loss: 1.0617 - val_accuracy: 0.5734\n",
            "Epoch 20/50\n",
            "17/17 [==============================] - 0s 6ms/step - loss: 1.0456 - accuracy: 0.5714 - val_loss: 1.0588 - val_accuracy: 0.5734\n",
            "Epoch 21/50\n",
            "17/17 [==============================] - 0s 7ms/step - loss: 1.0290 - accuracy: 0.5955 - val_loss: 1.0543 - val_accuracy: 0.5734\n",
            "Epoch 22/50\n",
            "17/17 [==============================] - 0s 6ms/step - loss: 1.0143 - accuracy: 0.5774 - val_loss: 1.0509 - val_accuracy: 0.5769\n",
            "Epoch 23/50\n",
            "17/17 [==============================] - 0s 6ms/step - loss: 1.0385 - accuracy: 0.5895 - val_loss: 1.0530 - val_accuracy: 0.5839\n",
            "Epoch 24/50\n",
            "17/17 [==============================] - 0s 7ms/step - loss: 1.0262 - accuracy: 0.5850 - val_loss: 1.0523 - val_accuracy: 0.5804\n",
            "Epoch 25/50\n",
            "17/17 [==============================] - 0s 6ms/step - loss: 1.0266 - accuracy: 0.5759 - val_loss: 1.0549 - val_accuracy: 0.5734\n",
            "Epoch 26/50\n",
            "17/17 [==============================] - 0s 5ms/step - loss: 1.0256 - accuracy: 0.5714 - val_loss: 1.0569 - val_accuracy: 0.5804\n",
            "Epoch 27/50\n",
            "17/17 [==============================] - 0s 6ms/step - loss: 1.0127 - accuracy: 0.5850 - val_loss: 1.0544 - val_accuracy: 0.5804\n",
            "Epoch 28/50\n",
            "17/17 [==============================] - 0s 6ms/step - loss: 1.0222 - accuracy: 0.5895 - val_loss: 1.0501 - val_accuracy: 0.5734\n",
            "Epoch 29/50\n",
            "17/17 [==============================] - 0s 5ms/step - loss: 1.0152 - accuracy: 0.5850 - val_loss: 1.0537 - val_accuracy: 0.5769\n",
            "Epoch 30/50\n",
            "17/17 [==============================] - 0s 6ms/step - loss: 1.0109 - accuracy: 0.5789 - val_loss: 1.0548 - val_accuracy: 0.5769\n",
            "Epoch 31/50\n",
            "17/17 [==============================] - 0s 5ms/step - loss: 1.0060 - accuracy: 0.5880 - val_loss: 1.0509 - val_accuracy: 0.5804\n",
            "Epoch 32/50\n",
            "17/17 [==============================] - 0s 5ms/step - loss: 1.0047 - accuracy: 0.5835 - val_loss: 1.0546 - val_accuracy: 0.5804\n",
            "Epoch 33/50\n",
            "17/17 [==============================] - 0s 6ms/step - loss: 1.0055 - accuracy: 0.5684 - val_loss: 1.0575 - val_accuracy: 0.5839\n",
            "Epoch 34/50\n",
            "17/17 [==============================] - 0s 6ms/step - loss: 0.9887 - accuracy: 0.5895 - val_loss: 1.0561 - val_accuracy: 0.5804\n",
            "Epoch 35/50\n",
            "17/17 [==============================] - 0s 5ms/step - loss: 0.9825 - accuracy: 0.5955 - val_loss: 1.0532 - val_accuracy: 0.5839\n",
            "Epoch 36/50\n",
            "17/17 [==============================] - 0s 6ms/step - loss: 0.9732 - accuracy: 0.5955 - val_loss: 1.0564 - val_accuracy: 0.5804\n",
            "Epoch 37/50\n",
            "17/17 [==============================] - 0s 5ms/step - loss: 0.9747 - accuracy: 0.5955 - val_loss: 1.0536 - val_accuracy: 0.5909\n",
            "Epoch 38/50\n",
            "17/17 [==============================] - 0s 6ms/step - loss: 0.9626 - accuracy: 0.5940 - val_loss: 1.0560 - val_accuracy: 0.5874\n",
            "Epoch 39/50\n",
            "17/17 [==============================] - 0s 5ms/step - loss: 0.9787 - accuracy: 0.5940 - val_loss: 1.0568 - val_accuracy: 0.5839\n",
            "Epoch 40/50\n",
            "17/17 [==============================] - 0s 6ms/step - loss: 0.9745 - accuracy: 0.5895 - val_loss: 1.0537 - val_accuracy: 0.5874\n",
            "Epoch 41/50\n",
            "17/17 [==============================] - 0s 7ms/step - loss: 0.9650 - accuracy: 0.6195 - val_loss: 1.0537 - val_accuracy: 0.5874\n",
            "Epoch 42/50\n",
            "17/17 [==============================] - 0s 5ms/step - loss: 0.9764 - accuracy: 0.5880 - val_loss: 1.0556 - val_accuracy: 0.5804\n",
            "Epoch 43/50\n",
            "17/17 [==============================] - 0s 7ms/step - loss: 0.9560 - accuracy: 0.5925 - val_loss: 1.0539 - val_accuracy: 0.5874\n",
            "Epoch 44/50\n",
            "17/17 [==============================] - 0s 6ms/step - loss: 0.9798 - accuracy: 0.5985 - val_loss: 1.0543 - val_accuracy: 0.5909\n",
            "Epoch 45/50\n",
            "17/17 [==============================] - 0s 5ms/step - loss: 0.9571 - accuracy: 0.6090 - val_loss: 1.0571 - val_accuracy: 0.5839\n",
            "Epoch 46/50\n",
            "17/17 [==============================] - 0s 5ms/step - loss: 0.9614 - accuracy: 0.5955 - val_loss: 1.0548 - val_accuracy: 0.5839\n",
            "Epoch 47/50\n",
            "17/17 [==============================] - 0s 6ms/step - loss: 0.9587 - accuracy: 0.6000 - val_loss: 1.0578 - val_accuracy: 0.5839\n",
            "Epoch 48/50\n",
            "17/17 [==============================] - 0s 7ms/step - loss: 0.9482 - accuracy: 0.6090 - val_loss: 1.0545 - val_accuracy: 0.5944\n",
            "Epoch 49/50\n",
            "17/17 [==============================] - 0s 6ms/step - loss: 0.9531 - accuracy: 0.6000 - val_loss: 1.0562 - val_accuracy: 0.5874\n",
            "Epoch 50/50\n",
            "17/17 [==============================] - 0s 7ms/step - loss: 0.9557 - accuracy: 0.6075 - val_loss: 1.0577 - val_accuracy: 0.5839\n"
          ]
        }
      ]
    },
    {
      "cell_type": "markdown",
      "source": [
        "- The training loss is 0.9557 and validation loss is 1.0577\n",
        "- The training accuracy is 0.6075 and validation accuracy is 0.5839"
      ],
      "metadata": {
        "id": "UasjZWMPsEk0"
      }
    },
    {
      "cell_type": "code",
      "source": [
        "# Predicting X_test basis the built model\n",
        "y_pred2 = np.argmax(model2.predict(X_test_sc), axis=1)\n",
        "y_pred2"
      ],
      "metadata": {
        "colab": {
          "base_uri": "https://localhost:8080/"
        },
        "id": "Uw6nNc9F745I",
        "outputId": "a6758c9e-befa-41a8-8aea-67c0c161f011"
      },
      "execution_count": null,
      "outputs": [
        {
          "output_type": "execute_result",
          "data": {
            "text/plain": [
              "array([2, 3, 4, 2, 3, 4, 3, 2, 3, 2, 4, 3, 3, 2, 4, 2, 3, 2, 2, 3, 2, 3,\n",
              "       2, 2, 3, 2, 2, 2, 2, 2, 3, 3, 3, 2, 3, 3, 2, 3, 2, 3, 1, 3, 3, 2,\n",
              "       2, 3, 2, 2, 2, 3, 3, 3, 3, 2, 4, 2, 2, 2, 2, 3, 2, 3, 2, 3, 3, 3,\n",
              "       2, 2, 3, 3, 2, 3, 3, 3, 3, 2, 2, 2, 2, 2, 3, 3, 2, 2, 2, 3, 2, 2,\n",
              "       3, 3, 3, 2, 1, 2, 3, 3, 2, 4, 3, 2, 2, 2, 2, 2, 3, 2, 3, 3, 3, 3,\n",
              "       3, 3, 2, 3, 2, 2, 2, 2, 3, 4, 2, 2, 3, 2, 3, 3, 2, 2, 2, 2, 2, 2,\n",
              "       3, 3, 2, 1, 4, 3, 3, 2, 2, 2, 4, 3, 2, 3, 3, 2, 3, 2, 2, 3, 3, 2,\n",
              "       2, 3, 2, 2, 3, 4, 3, 2, 2, 3, 2, 3, 2, 2, 3, 3, 4, 3, 3, 3, 4, 3,\n",
              "       3, 2, 2, 4, 2, 3, 2, 3, 2, 3, 3, 2, 2, 3, 2, 2, 3, 2, 2, 2, 4, 2,\n",
              "       4, 3, 2, 4, 2, 4, 3, 3, 2, 2, 2, 3, 3, 3, 3, 2, 3, 2, 4, 3, 2, 3,\n",
              "       2, 3, 2, 3, 2, 3, 3, 3, 2, 3, 2, 3, 3, 2, 3, 4, 3, 3, 1, 2, 2, 3,\n",
              "       2, 2, 3, 2, 3, 3, 3, 4, 2, 2, 3, 3, 3, 3, 2, 2, 3, 3, 4, 3, 2, 2,\n",
              "       3, 2, 3, 3, 2, 3, 3, 2, 4, 2, 2, 2, 2, 3, 3, 2, 3, 3, 3, 3, 3, 2,\n",
              "       3, 2, 3, 3, 2, 3, 2, 2, 3, 2, 2, 3, 2, 2, 2, 3, 2, 2, 3, 2, 3, 2,\n",
              "       3, 2, 2, 2, 3, 3, 3, 3, 3, 3, 3, 2, 3, 2, 2, 2, 2, 3, 2, 3, 3, 2,\n",
              "       3, 3, 3, 3, 2, 2, 3, 3, 3, 3, 2, 2, 3, 3, 3, 2, 3, 2, 3, 3, 2, 3,\n",
              "       2, 4, 3, 3, 3, 3, 2, 2, 2, 3, 3, 3, 3, 3, 3, 2, 3, 3, 2, 4, 2, 3,\n",
              "       3, 3, 3, 2, 3, 3, 3, 3, 2, 3, 2, 2, 2, 3, 2, 3, 2, 2, 3, 2, 2, 2,\n",
              "       3, 3, 2, 2, 2, 2, 3, 2, 4, 2, 4, 4])"
            ]
          },
          "metadata": {},
          "execution_count": 86
        }
      ]
    },
    {
      "cell_type": "code",
      "source": [
        "# Final evaluation of the model\n",
        "scores = model2.evaluate(X_test_sc, Y_test, verbose=0)\n",
        "print(\"Loss:\", scores[0])\n",
        "print(\"Accuracy:\", scores[1])"
      ],
      "metadata": {
        "colab": {
          "base_uri": "https://localhost:8080/"
        },
        "id": "7w9DZUQW749Y",
        "outputId": "63db20e6-b9a5-4217-ade8-3207475b0b54"
      },
      "execution_count": null,
      "outputs": [
        {
          "output_type": "stream",
          "name": "stdout",
          "text": [
            "Loss: 0.9439784288406372\n",
            "Accuracy: 0.6151960492134094\n"
          ]
        }
      ]
    },
    {
      "cell_type": "code",
      "source": [
        "from sklearn import metrics\n",
        "from sklearn.metrics import average_precision_score, confusion_matrix, accuracy_score, classification_report, plot_confusion_matrix\n",
        "confusion_matrix(Y_test_en, y_pred2)"
      ],
      "metadata": {
        "colab": {
          "base_uri": "https://localhost:8080/"
        },
        "id": "VI5G3zpk75Po",
        "outputId": "a9612de7-903d-4e96-9f3c-70c5993ea515"
      },
      "execution_count": null,
      "outputs": [
        {
          "output_type": "execute_result",
          "data": {
            "text/plain": [
              "array([[  0,   1,   4,   0,   0,   0],\n",
              "       [  0,   0,   7,   6,   0,   0],\n",
              "       [  0,   2, 123,  47,   0,   0],\n",
              "       [  0,   0,  49, 109,   6,   0],\n",
              "       [  0,   1,   2,  28,  19,   0],\n",
              "       [  0,   0,   0,   2,   2,   0]])"
            ]
          },
          "metadata": {},
          "execution_count": 88
        }
      ]
    },
    {
      "cell_type": "markdown",
      "source": [
        "### **Model Building with Batch Normalization and other hyperparameters**"
      ],
      "metadata": {
        "id": "X3t1c6Frb_3Z"
      }
    },
    {
      "cell_type": "code",
      "source": [
        "#Intialize the model\n",
        "model3 = Sequential([Input(shape=(11,)),  ## Input layer\n",
        "                   Dense(150, activation='relu',kernel_initializer=HeUniform(seed=7)), #hidden layer-1\n",
        "                   BatchNormalization(momentum=0.6),\n",
        "                   Dense(70, activation='relu',kernel_initializer=HeUniform(seed=7)), #hidden layer-2\n",
        "                   BatchNormalization(momentum=0.6),\n",
        "                   Dense(40, activation='relu',kernel_initializer=HeUniform(seed=7)), #hidden layer 3\n",
        "                   BatchNormalization(momentum=0.6),\n",
        "                   Dense(6, activation='softmax')]) ## Output layer with 6 neurons"
      ],
      "metadata": {
        "id": "VoIBPW27aLua"
      },
      "execution_count": null,
      "outputs": []
    },
    {
      "cell_type": "code",
      "source": [
        "model3.summary()"
      ],
      "metadata": {
        "colab": {
          "base_uri": "https://localhost:8080/"
        },
        "id": "GC3u-DvLaLxl",
        "outputId": "e06de32c-f784-46f4-c31d-d58adea8e5b3"
      },
      "execution_count": null,
      "outputs": [
        {
          "output_type": "stream",
          "name": "stdout",
          "text": [
            "Model: \"sequential_8\"\n",
            "_________________________________________________________________\n",
            " Layer (type)                Output Shape              Param #   \n",
            "=================================================================\n",
            " dense_32 (Dense)            (None, 150)               1800      \n",
            "                                                                 \n",
            " batch_normalization_3 (Batc  (None, 150)              600       \n",
            " hNormalization)                                                 \n",
            "                                                                 \n",
            " dense_33 (Dense)            (None, 70)                10570     \n",
            "                                                                 \n",
            " batch_normalization_4 (Batc  (None, 70)               280       \n",
            " hNormalization)                                                 \n",
            "                                                                 \n",
            " dense_34 (Dense)            (None, 40)                2840      \n",
            "                                                                 \n",
            " batch_normalization_5 (Batc  (None, 40)               160       \n",
            " hNormalization)                                                 \n",
            "                                                                 \n",
            " dense_35 (Dense)            (None, 6)                 246       \n",
            "                                                                 \n",
            "=================================================================\n",
            "Total params: 16,496\n",
            "Trainable params: 15,976\n",
            "Non-trainable params: 520\n",
            "_________________________________________________________________\n"
          ]
        }
      ]
    },
    {
      "cell_type": "code",
      "source": [
        "chkpt = ModelCheckpoint('/content/checkpoint', monitor='val_loss', save_best_only=True,save_freq='epoch')\n",
        "\n",
        "callback_bn = tf.keras.callbacks.EarlyStopping(monitor='val_loss', patience = 3,restore_best_weights=True)\n",
        "\n",
        "model3.compile(optimizer=tf.keras.optimizers.Adam(learning_rate=0.00124), \n",
        "              loss='categorical_crossentropy', metrics=['accuracy'])"
      ],
      "metadata": {
        "id": "_Ups0S4DctFj"
      },
      "execution_count": null,
      "outputs": []
    },
    {
      "cell_type": "code",
      "source": [
        "#Train the model\n",
        "train3 = model3.fit(X_train_sc,Y_train,          \n",
        "          validation_data=(X_val_sc,Y_val),\n",
        "          epochs=50, batch_size=32)"
      ],
      "metadata": {
        "colab": {
          "base_uri": "https://localhost:8080/"
        },
        "id": "JSfTAg7TctLG",
        "outputId": "534ee4b5-5b0c-4a92-9e27-5c5664e45760"
      },
      "execution_count": null,
      "outputs": [
        {
          "output_type": "stream",
          "name": "stdout",
          "text": [
            "Epoch 1/50\n",
            "21/21 [==============================] - 3s 17ms/step - loss: 0.1049 - accuracy: 0.9594 - val_loss: 2.8162 - val_accuracy: 0.4720\n",
            "Epoch 2/50\n",
            "21/21 [==============================] - 0s 5ms/step - loss: 0.1351 - accuracy: 0.9459 - val_loss: 2.7795 - val_accuracy: 0.5140\n",
            "Epoch 3/50\n",
            "21/21 [==============================] - 0s 5ms/step - loss: 0.1231 - accuracy: 0.9459 - val_loss: 2.9448 - val_accuracy: 0.5280\n",
            "Epoch 4/50\n",
            "21/21 [==============================] - 0s 5ms/step - loss: 0.1105 - accuracy: 0.9669 - val_loss: 3.0190 - val_accuracy: 0.5035\n",
            "Epoch 5/50\n",
            "21/21 [==============================] - 0s 5ms/step - loss: 0.1168 - accuracy: 0.9594 - val_loss: 3.0115 - val_accuracy: 0.4895\n",
            "Epoch 6/50\n",
            "21/21 [==============================] - 0s 5ms/step - loss: 0.1201 - accuracy: 0.9549 - val_loss: 2.9578 - val_accuracy: 0.4755\n",
            "Epoch 7/50\n",
            "21/21 [==============================] - 0s 5ms/step - loss: 0.0982 - accuracy: 0.9624 - val_loss: 2.8649 - val_accuracy: 0.5000\n",
            "Epoch 8/50\n",
            "21/21 [==============================] - 0s 5ms/step - loss: 0.1127 - accuracy: 0.9579 - val_loss: 3.0174 - val_accuracy: 0.4930\n",
            "Epoch 9/50\n",
            "21/21 [==============================] - 0s 6ms/step - loss: 0.1336 - accuracy: 0.9474 - val_loss: 2.9995 - val_accuracy: 0.4825\n",
            "Epoch 10/50\n",
            "21/21 [==============================] - 0s 5ms/step - loss: 0.0993 - accuracy: 0.9684 - val_loss: 2.9585 - val_accuracy: 0.4965\n",
            "Epoch 11/50\n",
            "21/21 [==============================] - 0s 5ms/step - loss: 0.1179 - accuracy: 0.9609 - val_loss: 2.7338 - val_accuracy: 0.5105\n",
            "Epoch 12/50\n",
            "21/21 [==============================] - 0s 5ms/step - loss: 0.1292 - accuracy: 0.9564 - val_loss: 2.8635 - val_accuracy: 0.5105\n",
            "Epoch 13/50\n",
            "21/21 [==============================] - 0s 5ms/step - loss: 0.1222 - accuracy: 0.9609 - val_loss: 2.9027 - val_accuracy: 0.5210\n",
            "Epoch 14/50\n",
            "21/21 [==============================] - 0s 5ms/step - loss: 0.0693 - accuracy: 0.9850 - val_loss: 2.9986 - val_accuracy: 0.5070\n",
            "Epoch 15/50\n",
            "21/21 [==============================] - 0s 5ms/step - loss: 0.1071 - accuracy: 0.9579 - val_loss: 3.1083 - val_accuracy: 0.4720\n",
            "Epoch 16/50\n",
            "21/21 [==============================] - 0s 5ms/step - loss: 0.1202 - accuracy: 0.9564 - val_loss: 2.8562 - val_accuracy: 0.4825\n",
            "Epoch 17/50\n",
            "21/21 [==============================] - 0s 5ms/step - loss: 0.1005 - accuracy: 0.9669 - val_loss: 2.8237 - val_accuracy: 0.4825\n",
            "Epoch 18/50\n",
            "21/21 [==============================] - 0s 5ms/step - loss: 0.0934 - accuracy: 0.9699 - val_loss: 2.8153 - val_accuracy: 0.5105\n",
            "Epoch 19/50\n",
            "21/21 [==============================] - 0s 6ms/step - loss: 0.0986 - accuracy: 0.9684 - val_loss: 2.9060 - val_accuracy: 0.4720\n",
            "Epoch 20/50\n",
            "21/21 [==============================] - 0s 5ms/step - loss: 0.1239 - accuracy: 0.9564 - val_loss: 3.0302 - val_accuracy: 0.5035\n",
            "Epoch 21/50\n",
            "21/21 [==============================] - 0s 7ms/step - loss: 0.1142 - accuracy: 0.9669 - val_loss: 2.7907 - val_accuracy: 0.4930\n",
            "Epoch 22/50\n",
            "21/21 [==============================] - 0s 7ms/step - loss: 0.0784 - accuracy: 0.9759 - val_loss: 2.9019 - val_accuracy: 0.4860\n",
            "Epoch 23/50\n",
            "21/21 [==============================] - 0s 6ms/step - loss: 0.1103 - accuracy: 0.9654 - val_loss: 2.6892 - val_accuracy: 0.4965\n",
            "Epoch 24/50\n",
            "21/21 [==============================] - 0s 7ms/step - loss: 0.1058 - accuracy: 0.9639 - val_loss: 2.9177 - val_accuracy: 0.4755\n",
            "Epoch 25/50\n",
            "21/21 [==============================] - 0s 6ms/step - loss: 0.0910 - accuracy: 0.9714 - val_loss: 2.8822 - val_accuracy: 0.4895\n",
            "Epoch 26/50\n",
            "21/21 [==============================] - 0s 6ms/step - loss: 0.1047 - accuracy: 0.9699 - val_loss: 2.9641 - val_accuracy: 0.4895\n",
            "Epoch 27/50\n",
            "21/21 [==============================] - 0s 6ms/step - loss: 0.0824 - accuracy: 0.9759 - val_loss: 2.7518 - val_accuracy: 0.5105\n",
            "Epoch 28/50\n",
            "21/21 [==============================] - 0s 6ms/step - loss: 0.0989 - accuracy: 0.9654 - val_loss: 2.8443 - val_accuracy: 0.5000\n",
            "Epoch 29/50\n",
            "21/21 [==============================] - 0s 5ms/step - loss: 0.0825 - accuracy: 0.9789 - val_loss: 2.9601 - val_accuracy: 0.4790\n",
            "Epoch 30/50\n",
            "21/21 [==============================] - 0s 6ms/step - loss: 0.0913 - accuracy: 0.9624 - val_loss: 2.9357 - val_accuracy: 0.5105\n",
            "Epoch 31/50\n",
            "21/21 [==============================] - 0s 5ms/step - loss: 0.0854 - accuracy: 0.9699 - val_loss: 2.9389 - val_accuracy: 0.4895\n",
            "Epoch 32/50\n",
            "21/21 [==============================] - 0s 5ms/step - loss: 0.0648 - accuracy: 0.9789 - val_loss: 2.7709 - val_accuracy: 0.5175\n",
            "Epoch 33/50\n",
            "21/21 [==============================] - 0s 6ms/step - loss: 0.0805 - accuracy: 0.9729 - val_loss: 3.0050 - val_accuracy: 0.4685\n",
            "Epoch 34/50\n",
            "21/21 [==============================] - 0s 6ms/step - loss: 0.0779 - accuracy: 0.9759 - val_loss: 2.8983 - val_accuracy: 0.5035\n",
            "Epoch 35/50\n",
            "21/21 [==============================] - 0s 5ms/step - loss: 0.1005 - accuracy: 0.9564 - val_loss: 2.9910 - val_accuracy: 0.4825\n",
            "Epoch 36/50\n",
            "21/21 [==============================] - 0s 6ms/step - loss: 0.0922 - accuracy: 0.9639 - val_loss: 3.0885 - val_accuracy: 0.5035\n",
            "Epoch 37/50\n",
            "21/21 [==============================] - 0s 6ms/step - loss: 0.0981 - accuracy: 0.9639 - val_loss: 2.9446 - val_accuracy: 0.4755\n",
            "Epoch 38/50\n",
            "21/21 [==============================] - 0s 5ms/step - loss: 0.0786 - accuracy: 0.9774 - val_loss: 2.7999 - val_accuracy: 0.5000\n",
            "Epoch 39/50\n",
            "21/21 [==============================] - 0s 6ms/step - loss: 0.1306 - accuracy: 0.9579 - val_loss: 2.9935 - val_accuracy: 0.4895\n",
            "Epoch 40/50\n",
            "21/21 [==============================] - 0s 5ms/step - loss: 0.0872 - accuracy: 0.9669 - val_loss: 3.0008 - val_accuracy: 0.5000\n",
            "Epoch 41/50\n",
            "21/21 [==============================] - 0s 5ms/step - loss: 0.1084 - accuracy: 0.9654 - val_loss: 2.9512 - val_accuracy: 0.4860\n",
            "Epoch 42/50\n",
            "21/21 [==============================] - 0s 5ms/step - loss: 0.0825 - accuracy: 0.9669 - val_loss: 3.1130 - val_accuracy: 0.5035\n",
            "Epoch 43/50\n",
            "21/21 [==============================] - 0s 5ms/step - loss: 0.1005 - accuracy: 0.9579 - val_loss: 3.0154 - val_accuracy: 0.5070\n",
            "Epoch 44/50\n",
            "21/21 [==============================] - 0s 5ms/step - loss: 0.1038 - accuracy: 0.9684 - val_loss: 2.8829 - val_accuracy: 0.5070\n",
            "Epoch 45/50\n",
            "21/21 [==============================] - 0s 5ms/step - loss: 0.1044 - accuracy: 0.9654 - val_loss: 3.0039 - val_accuracy: 0.5315\n",
            "Epoch 46/50\n",
            "21/21 [==============================] - 0s 5ms/step - loss: 0.1218 - accuracy: 0.9639 - val_loss: 2.8468 - val_accuracy: 0.4930\n",
            "Epoch 47/50\n",
            "21/21 [==============================] - 0s 5ms/step - loss: 0.1528 - accuracy: 0.9444 - val_loss: 3.0639 - val_accuracy: 0.5070\n",
            "Epoch 48/50\n",
            "21/21 [==============================] - 0s 5ms/step - loss: 0.1091 - accuracy: 0.9624 - val_loss: 2.9859 - val_accuracy: 0.4860\n",
            "Epoch 49/50\n",
            "21/21 [==============================] - 0s 5ms/step - loss: 0.1179 - accuracy: 0.9534 - val_loss: 3.1006 - val_accuracy: 0.4720\n",
            "Epoch 50/50\n",
            "21/21 [==============================] - 0s 5ms/step - loss: 0.0752 - accuracy: 0.9714 - val_loss: 2.9604 - val_accuracy: 0.5035\n"
          ]
        }
      ]
    },
    {
      "cell_type": "markdown",
      "source": [
        "- The training loss is 0.0752 and validation loss is 2.9604\n",
        "- The training accuracy is 0.9714 and validation accuracy is 0.5035"
      ],
      "metadata": {
        "id": "VvmHePpdsOJl"
      }
    },
    {
      "cell_type": "code",
      "source": [
        "# Predicting X_test basis the built model\n",
        "y_pred3 = np.argmax(model3.predict(X_test_sc), axis=1)\n",
        "y_pred3"
      ],
      "metadata": {
        "colab": {
          "base_uri": "https://localhost:8080/"
        },
        "id": "3FbtreHpBjXK",
        "outputId": "6486d4fd-d9fa-4d02-e14c-3fe506278e2c"
      },
      "execution_count": null,
      "outputs": [
        {
          "output_type": "execute_result",
          "data": {
            "text/plain": [
              "array([2, 3, 5, 2, 3, 4, 2, 2, 2, 2, 2, 3, 2, 3, 3, 2, 3, 2, 2, 3, 2, 3,\n",
              "       2, 2, 3, 2, 3, 2, 2, 3, 4, 5, 3, 2, 3, 3, 2, 3, 2, 2, 3, 3, 2, 2,\n",
              "       2, 3, 2, 2, 2, 2, 2, 4, 4, 2, 4, 2, 3, 2, 3, 3, 2, 4, 2, 3, 2, 3,\n",
              "       2, 2, 3, 4, 2, 5, 2, 3, 2, 2, 2, 3, 2, 2, 3, 4, 3, 2, 2, 2, 2, 2,\n",
              "       3, 3, 3, 3, 2, 2, 3, 2, 2, 4, 4, 3, 2, 2, 2, 2, 2, 3, 2, 4, 4, 3,\n",
              "       3, 3, 2, 2, 2, 3, 2, 2, 3, 3, 2, 2, 1, 3, 3, 2, 2, 3, 2, 2, 2, 2,\n",
              "       3, 3, 2, 1, 4, 2, 3, 3, 2, 2, 4, 2, 3, 3, 3, 3, 3, 2, 2, 3, 2, 2,\n",
              "       3, 3, 4, 1, 4, 2, 3, 3, 2, 1, 3, 4, 4, 2, 3, 3, 3, 3, 2, 2, 4, 2,\n",
              "       3, 2, 2, 3, 3, 3, 2, 3, 2, 3, 3, 2, 2, 2, 3, 2, 5, 2, 3, 3, 4, 2,\n",
              "       3, 3, 2, 4, 2, 4, 2, 4, 2, 2, 2, 2, 3, 3, 3, 2, 2, 3, 4, 4, 2, 3,\n",
              "       2, 2, 2, 3, 2, 2, 5, 3, 2, 3, 3, 2, 2, 2, 3, 5, 3, 2, 2, 2, 2, 2,\n",
              "       2, 3, 3, 2, 3, 5, 4, 4, 3, 2, 2, 3, 2, 2, 2, 2, 2, 2, 4, 3, 2, 3,\n",
              "       2, 3, 2, 2, 2, 2, 2, 2, 4, 2, 2, 2, 2, 4, 1, 2, 3, 2, 2, 3, 3, 1,\n",
              "       2, 2, 3, 4, 2, 3, 2, 2, 3, 2, 2, 3, 3, 2, 4, 4, 2, 2, 2, 4, 3, 3,\n",
              "       3, 2, 2, 2, 2, 3, 2, 3, 4, 3, 3, 2, 5, 3, 4, 2, 3, 3, 3, 3, 3, 2,\n",
              "       3, 3, 3, 3, 2, 2, 4, 3, 3, 3, 2, 2, 4, 2, 4, 2, 2, 2, 2, 2, 2, 3,\n",
              "       3, 4, 3, 4, 4, 4, 2, 3, 2, 3, 3, 2, 2, 3, 4, 1, 2, 2, 2, 4, 3, 3,\n",
              "       4, 3, 4, 2, 4, 3, 4, 3, 2, 5, 2, 2, 2, 3, 2, 3, 3, 3, 2, 2, 2, 2,\n",
              "       2, 3, 3, 2, 2, 1, 3, 2, 4, 2, 4, 4])"
            ]
          },
          "metadata": {},
          "execution_count": 106
        }
      ]
    },
    {
      "cell_type": "code",
      "source": [
        "# Final evaluation of the model\n",
        "scores = model3.evaluate(X_test_sc, Y_test, verbose=0)\n",
        "print(\"Loss:\", scores[0])\n",
        "print(\"Accuracy:\", scores[1])"
      ],
      "metadata": {
        "colab": {
          "base_uri": "https://localhost:8080/"
        },
        "id": "CxuFU1d6BjbD",
        "outputId": "cb3eb5a4-02e0-4459-a0f7-c7626c0f1234"
      },
      "execution_count": null,
      "outputs": [
        {
          "output_type": "stream",
          "name": "stdout",
          "text": [
            "Loss: 2.905094861984253\n",
            "Accuracy: 0.4950980246067047\n"
          ]
        }
      ]
    },
    {
      "cell_type": "code",
      "source": [
        "from sklearn import metrics\n",
        "from sklearn.metrics import average_precision_score, confusion_matrix, accuracy_score, classification_report, plot_confusion_matrix\n",
        "confusion_matrix(Y_test_en, y_pred3)"
      ],
      "metadata": {
        "colab": {
          "base_uri": "https://localhost:8080/"
        },
        "id": "SAUPzyrNBjlA",
        "outputId": "5c540af8-cfd7-46d9-c4d2-ebfb70af16a4"
      },
      "execution_count": null,
      "outputs": [
        {
          "output_type": "execute_result",
          "data": {
            "text/plain": [
              "array([[  0,   2,   3,   0,   0,   0],\n",
              "       [  0,   0,   5,   8,   0,   0],\n",
              "       [  0,   4, 109,  51,   7,   1],\n",
              "       [  0,   2,  71,  68,  19,   4],\n",
              "       [  0,   0,  10,  11,  25,   4],\n",
              "       [  0,   0,   0,   3,   1,   0]])"
            ]
          },
          "metadata": {},
          "execution_count": 108
        }
      ]
    },
    {
      "cell_type": "markdown",
      "source": [
        "### Plot visuals as in Q3.C and share insights about difference observed in both the models.\n",
        "\n",
        "1. Training Loss and Validation Loss"
      ],
      "metadata": {
        "id": "06Viv_0RtTIR"
      }
    },
    {
      "cell_type": "code",
      "source": [
        "import matplotlib.pyplot as plt\n",
        "# summarize history for loss\n",
        "plt.plot(train3.history['loss'])\n",
        "plt.plot(train3.history['val_loss'])\n",
        "plt.title('model loss')\n",
        "plt.ylabel('loss')\n",
        "plt.xlabel('epoch')\n",
        "plt.legend(['train', 'val'], loc='upper left')\n",
        "plt.show()"
      ],
      "metadata": {
        "colab": {
          "base_uri": "https://localhost:8080/",
          "height": 295
        },
        "id": "1DXAkr9mctjs",
        "outputId": "911cede9-6386-4c67-9c56-60977b334a12"
      },
      "execution_count": null,
      "outputs": [
        {
          "output_type": "display_data",
          "data": {
            "text/plain": [
              "<Figure size 432x288 with 1 Axes>"
            ],
            "image/png": "[encoded data removed]"
          },
          "metadata": {
            "needs_background": "light"
          }
        }
      ]
    },
    {
      "cell_type": "markdown",
      "source": [
        "2. Training Accuracy and Validation Accuracy"
      ],
      "metadata": {
        "id": "PgV0APx6uOub"
      }
    },
    {
      "cell_type": "code",
      "source": [
        "import matplotlib.pyplot as plt\n",
        "\n",
        "plt.plot(train3.history['accuracy'])\n",
        "plt.plot(train3.history['val_accuracy'])\n",
        "plt.title('model accuracy')\n",
        "plt.ylabel('accuracy')\n",
        "plt.xlabel('epoch')\n",
        "plt.legend(['train', 'Val'], loc='upper left')\n",
        "plt.show()"
      ],
      "metadata": {
        "colab": {
          "base_uri": "https://localhost:8080/",
          "height": 295
        },
        "id": "bC7-slvxctqj",
        "outputId": "317f2df3-78a3-4310-a672-4c21b74f0235"
      },
      "execution_count": null,
      "outputs": [
        {
          "output_type": "display_data",
          "data": {
            "text/plain": [
              "<Figure size 432x288 with 1 Axes>"
            ],
            "image/png": "[encoded data removed]"
          },
          "metadata": {
            "needs_background": "light"
          }
        }
      ]
    },
    {
      "cell_type": "markdown",
      "source": [
        "Model 1 ( Base Model ) -\n",
        "\n",
        "- The training loss is 0.9506 and validation loss is 1.0781\n",
        "- The training accuracy is 0.5789 and validation accuracy is 0.5420\n",
        "- The test accuracy is 0.5882\n",
        "\n",
        "Model 2 ( With Dropout ) -\n",
        "\n",
        "- The training loss is 0.9557 and validation loss is 1.0577\n",
        "- The training accuracy is 0.6075 and validation accuracy is 0.5839\n",
        "- The test accuracy is 0.6152\n",
        "\n",
        "Model 3 ( With Batch Normalization and Weight Initialization ) -\n",
        "\n",
        "- The training loss is 0.0752 and validation loss is 2.9604\n",
        "- The training accuracy is 0.9714 and validation accuracy is 0.5035\n",
        "- The test accuracy is 0.4951\n",
        "\n",
        "The validation loss reduced from the base model to the model with dropout\n",
        "\n",
        "The validation accuracy increased from the base model to the model with dropout\n",
        "\n",
        "**Out of the 3 models, it is observed that the model with Dropout performed the best with a test accuracy of 0.6152**"
      ],
      "metadata": {
        "id": "Bzx1C8gDulBd"
      }
    },
    {
      "cell_type": "markdown",
      "source": [
        "It is overall observed that from the base model to the model with batch normalization, the training accuracy has increased significantly from 0.5789 to 0.9714, however, there is no significant improvement in the validation accuracy. \n",
        "\n",
        "The model is overfitted as it performs better on training but fails in validation. So, we are upsampling the data in order to achieve better accuracy."
      ],
      "metadata": {
        "id": "MjdorfkXOzj1"
      }
    },
    {
      "cell_type": "code",
      "source": [
        "#SMOTE method to upsample smaller class\n",
        "print(\"Before UpSampling, counts of label '3': {}\".format(sum(Y_copy==3)))\n",
        "print(\"Before UpSampling, counts of label '4': {} \\n\".format(sum(Y_copy==4)))\n",
        "print(\"Before UpSampling, counts of label '5': {} \\n\".format(sum(Y_copy==5)))\n",
        "print(\"Before UpSampling, counts of label '6': {} \\n\".format(sum(Y_copy==6)))\n",
        "print(\"Before UpSampling, counts of label '7': {} \\n\".format(sum(Y_copy==7)))\n",
        "print(\"Before UpSampling, counts of label '8': {} \\n\".format(sum(Y_copy==8)))\n",
        "\n",
        "from imblearn.over_sampling import SMOTE\n",
        "#Synthetic Minority Over Sampling Technique\n",
        "sm = SMOTE(k_neighbors = 5, random_state=1)   \n",
        "X_train_res2, y_train_res2 = sm.fit_resample(X_copy, Y_copy.ravel())\n",
        "\n",
        "print(\"After UpSampling, counts of label '3': {}\".format(sum(y_train_res2==3)))\n",
        "print(\"After UpSampling, counts of label '4': {} \\n\".format(sum(y_train_res2==4)))\n",
        "print(\"After UpSampling, counts of label '5': {} \\n\".format(sum(y_train_res2==5)))\n",
        "print(\"After UpSampling, counts of label '6': {} \\n\".format(sum(y_train_res2==6)))\n",
        "print(\"After UpSampling, counts of label '7': {} \\n\".format(sum(y_train_res2==7)))\n",
        "print(\"After UpSampling, counts of label '8': {} \\n\".format(sum(y_train_res2==8)))\n",
        "\n",
        "print('After UpSampling, the shape of train_X: {}'.format(X_train_res2.shape))\n",
        "print('After UpSampling, the shape of train_y: {} \\n'.format(y_train_res2.shape))"
      ],
      "metadata": {
        "colab": {
          "base_uri": "https://localhost:8080/"
        },
        "id": "1_yYacxfIdNY",
        "outputId": "de05bcb9-ca41-44f3-e487-e1ac41668fd4"
      },
      "execution_count": null,
      "outputs": [
        {
          "output_type": "stream",
          "name": "stdout",
          "text": [
            "Before UpSampling, counts of label '3': 10\n",
            "Before UpSampling, counts of label '4': 53 \n",
            "\n",
            "Before UpSampling, counts of label '5': 577 \n",
            "\n",
            "Before UpSampling, counts of label '6': 535 \n",
            "\n",
            "Before UpSampling, counts of label '7': 167 \n",
            "\n",
            "Before UpSampling, counts of label '8': 17 \n",
            "\n",
            "After UpSampling, counts of label '3': 577\n",
            "After UpSampling, counts of label '4': 577 \n",
            "\n",
            "After UpSampling, counts of label '5': 577 \n",
            "\n",
            "After UpSampling, counts of label '6': 577 \n",
            "\n",
            "After UpSampling, counts of label '7': 577 \n",
            "\n",
            "After UpSampling, counts of label '8': 577 \n",
            "\n",
            "After UpSampling, the shape of train_X: (3462, 11)\n",
            "After UpSampling, the shape of train_y: (3462,) \n",
            "\n"
          ]
        }
      ]
    },
    {
      "cell_type": "code",
      "source": [
        "#Split the data into train & test with 70:30 proportion.\n",
        "X_train_us, X_test_us, Y_train_us, Y_test_us = train_test_split(X_train_res2, y_train_res2 , test_size = 0.3, random_state =42)\n",
        "X_train2_us, X_val_us, Y_train2_us, Y_val_us = train_test_split(X_train_us, Y_train_us, test_size = 0.3, random_state =42)"
      ],
      "metadata": {
        "id": "jl2FH5rLQCxU"
      },
      "execution_count": null,
      "outputs": []
    },
    {
      "cell_type": "code",
      "source": [
        "# Checking the shape of data\n",
        "X_train2_us.shape,X_test_us.shape, Y_train2_us.shape,Y_test_us.shape"
      ],
      "metadata": {
        "colab": {
          "base_uri": "https://localhost:8080/"
        },
        "id": "9XllRn7AQC2N",
        "outputId": "81ec4187-d697-4149-b493-b0a548f81c2b"
      },
      "execution_count": null,
      "outputs": [
        {
          "output_type": "execute_result",
          "data": {
            "text/plain": [
              "((1696, 11), (1039, 11), (1696,), (1039,))"
            ]
          },
          "metadata": {},
          "execution_count": 115
        }
      ]
    },
    {
      "cell_type": "code",
      "source": [
        "## Scaling the data using standard scalar\n",
        "from sklearn.preprocessing import StandardScaler\n",
        "ss1 = StandardScaler()\n",
        "\n",
        "X_train_sc_us = ss1.fit_transform(X_train2_us)\n",
        "X_val_sc_us = ss1.transform(X_val_us)\n",
        "X_test_sc_us = ss1.transform(X_test_us)\n",
        "\n",
        "print(X_train_sc_us.shape,X_val_sc_us.shape)\n",
        "print(len(ss1.var_))"
      ],
      "metadata": {
        "colab": {
          "base_uri": "https://localhost:8080/"
        },
        "id": "ukaNMWSrQC69",
        "outputId": "3957cf81-c61c-4f64-8a3c-06b076baeca7"
      },
      "execution_count": null,
      "outputs": [
        {
          "output_type": "stream",
          "name": "stdout",
          "text": [
            "(1696, 11) (727, 11)\n",
            "11\n"
          ]
        }
      ]
    },
    {
      "cell_type": "code",
      "source": [
        "#Transform Labels into format acceptable by Neural Network.\n",
        "from sklearn.preprocessing import LabelEncoder\n",
        "le1 = LabelEncoder()\n",
        "Y_train_en_us = le1.fit_transform(Y_train2_us)\n",
        "Y_val_en_us = le1.transform(Y_val_us)\n",
        "Y_test_en_us = le1.transform(Y_test_us)\n",
        "print(le1.classes_)"
      ],
      "metadata": {
        "colab": {
          "base_uri": "https://localhost:8080/"
        },
        "id": "gtzcLHt3QC_n",
        "outputId": "f3292d4d-8765-4b26-e2cb-31053197b881"
      },
      "execution_count": null,
      "outputs": [
        {
          "output_type": "stream",
          "name": "stdout",
          "text": [
            "[3 4 5 6 7 8]\n"
          ]
        }
      ]
    },
    {
      "cell_type": "code",
      "source": [
        "## One hot encoding of the target columns\n",
        "Y_train_us=tf.keras.utils.to_categorical(Y_train_en_us)\n",
        "Y_val_us=tf.keras.utils.to_categorical(Y_val_en_us)\n",
        "Y_test_us=tf.keras.utils.to_categorical(Y_test_en_us)"
      ],
      "metadata": {
        "id": "k7Rowo37QDEI"
      },
      "execution_count": null,
      "outputs": []
    },
    {
      "cell_type": "code",
      "source": [
        "Y_train2.shape"
      ],
      "metadata": {
        "colab": {
          "base_uri": "https://localhost:8080/"
        },
        "id": "JTqhDyYxROwT",
        "outputId": "45c547e5-fae6-4139-8c91-8826a23d2f1c"
      },
      "execution_count": null,
      "outputs": [
        {
          "output_type": "execute_result",
          "data": {
            "text/plain": [
              "(665,)"
            ]
          },
          "metadata": {},
          "execution_count": 119
        }
      ]
    },
    {
      "cell_type": "code",
      "source": [
        "#Design a Neural Network to train a classifier\n",
        "#Intialize the model\n",
        "model_us = Sequential([Input(shape=(11,)),  ## Input layer\n",
        "                   Dense(128, activation='relu'), #hidden layer-1\n",
        "                   Dense(56, activation='relu'), #hidden layer-2\n",
        "                   Dense(28, activation='relu'),\n",
        "                   Dense(6, activation='softmax')]) ## Output layer with 6 neurons"
      ],
      "metadata": {
        "id": "0xzQ8JzgRO6R"
      },
      "execution_count": null,
      "outputs": []
    },
    {
      "cell_type": "code",
      "source": [
        "# Model Summary\n",
        "model_us.summary()"
      ],
      "metadata": {
        "colab": {
          "base_uri": "https://localhost:8080/"
        },
        "id": "9TY4RwukRPCU",
        "outputId": "ad046fff-d4cb-4c9b-9b1d-57ac1f66d364"
      },
      "execution_count": null,
      "outputs": [
        {
          "output_type": "stream",
          "name": "stdout",
          "text": [
            "Model: \"sequential_9\"\n",
            "_________________________________________________________________\n",
            " Layer (type)                Output Shape              Param #   \n",
            "=================================================================\n",
            " dense_36 (Dense)            (None, 128)               1536      \n",
            "                                                                 \n",
            " dense_37 (Dense)            (None, 56)                7224      \n",
            "                                                                 \n",
            " dense_38 (Dense)            (None, 28)                1596      \n",
            "                                                                 \n",
            " dense_39 (Dense)            (None, 6)                 174       \n",
            "                                                                 \n",
            "=================================================================\n",
            "Total params: 10,530\n",
            "Trainable params: 10,530\n",
            "Non-trainable params: 0\n",
            "_________________________________________________________________\n"
          ]
        }
      ]
    },
    {
      "cell_type": "code",
      "source": [
        "callback_us = tf.keras.callbacks.EarlyStopping(monitor='val_loss', patience = 2,restore_best_weights=True)\n",
        "model_us.compile(optimizer=tf.keras.optimizers.Adam(learning_rate=0.002), \n",
        "              loss='categorical_crossentropy', metrics=['accuracy'])"
      ],
      "metadata": {
        "id": "aKq3rUK5RPJ5"
      },
      "execution_count": null,
      "outputs": []
    },
    {
      "cell_type": "code",
      "source": [
        "# Fitting the model\n",
        "train_us = model_us.fit(X_train_sc_us, Y_train_us,validation_data=(X_val_sc_us,Y_val_us),epochs=20,batch_size=10,callbacks=callback)"
      ],
      "metadata": {
        "colab": {
          "base_uri": "https://localhost:8080/"
        },
        "id": "_Vs9G49HRPSL",
        "outputId": "258e56d2-68e7-4b55-bb04-426079651927"
      },
      "execution_count": null,
      "outputs": [
        {
          "output_type": "stream",
          "name": "stdout",
          "text": [
            "Epoch 1/20\n",
            "170/170 [==============================] - 2s 4ms/step - loss: 1.2224 - accuracy: 0.4906 - val_loss: 0.9217 - val_accuracy: 0.6080\n",
            "Epoch 2/20\n",
            "170/170 [==============================] - 1s 3ms/step - loss: 0.8669 - accuracy: 0.6409 - val_loss: 0.8288 - val_accuracy: 0.6671\n",
            "Epoch 3/20\n",
            "170/170 [==============================] - 1s 3ms/step - loss: 0.7673 - accuracy: 0.6781 - val_loss: 0.8444 - val_accuracy: 0.6520\n",
            "Epoch 4/20\n",
            "170/170 [==============================] - 1s 3ms/step - loss: 0.6870 - accuracy: 0.7382 - val_loss: 0.6586 - val_accuracy: 0.7483\n",
            "Epoch 5/20\n",
            "170/170 [==============================] - 1s 3ms/step - loss: 0.6525 - accuracy: 0.7394 - val_loss: 0.6901 - val_accuracy: 0.7263\n",
            "Epoch 6/20\n",
            "170/170 [==============================] - 1s 3ms/step - loss: 0.5787 - accuracy: 0.7695 - val_loss: 0.6467 - val_accuracy: 0.7483\n",
            "Epoch 7/20\n",
            "170/170 [==============================] - 1s 3ms/step - loss: 0.5403 - accuracy: 0.7812 - val_loss: 0.6324 - val_accuracy: 0.7510\n",
            "Epoch 8/20\n",
            "170/170 [==============================] - 1s 3ms/step - loss: 0.5294 - accuracy: 0.7795 - val_loss: 0.6376 - val_accuracy: 0.7717\n",
            "Epoch 9/20\n",
            "170/170 [==============================] - 0s 3ms/step - loss: 0.4872 - accuracy: 0.8084 - val_loss: 0.6114 - val_accuracy: 0.7717\n",
            "Epoch 10/20\n",
            "170/170 [==============================] - 0s 3ms/step - loss: 0.4710 - accuracy: 0.8125 - val_loss: 0.6251 - val_accuracy: 0.7662\n",
            "Epoch 11/20\n",
            "170/170 [==============================] - 0s 3ms/step - loss: 0.4384 - accuracy: 0.8237 - val_loss: 0.5658 - val_accuracy: 0.7964\n",
            "Epoch 12/20\n",
            "170/170 [==============================] - 0s 2ms/step - loss: 0.4306 - accuracy: 0.8308 - val_loss: 0.5954 - val_accuracy: 0.7827\n",
            "Epoch 13/20\n",
            "170/170 [==============================] - 0s 3ms/step - loss: 0.4046 - accuracy: 0.8396 - val_loss: 0.5980 - val_accuracy: 0.7827\n"
          ]
        }
      ]
    },
    {
      "cell_type": "code",
      "source": [
        "# Predicting X_test basis the built model\n",
        "y_pred_us = np.argmax(model.predict(X_test_sc_us), axis=1)\n",
        "y_pred_us"
      ],
      "metadata": {
        "colab": {
          "base_uri": "https://localhost:8080/"
        },
        "id": "37pCfbj5RPlB",
        "outputId": "80146267-6f94-4bf9-e41f-7edfabeabdd9"
      },
      "execution_count": null,
      "outputs": [
        {
          "output_type": "execute_result",
          "data": {
            "text/plain": [
              "array([4, 2, 3, ..., 2, 4, 3])"
            ]
          },
          "metadata": {},
          "execution_count": 125
        }
      ]
    },
    {
      "cell_type": "code",
      "source": [
        "# Final evaluation of the model\n",
        "scores_us = model_us.evaluate(X_test_sc_us, Y_test_us, verbose=0)\n",
        "print(\"Loss:\", scores_us[0])\n",
        "print(\"Accuracy:\", scores_us[1])"
      ],
      "metadata": {
        "colab": {
          "base_uri": "https://localhost:8080/"
        },
        "id": "uZTUs43hSVBj",
        "outputId": "177d95c2-d874-4244-ea5a-a0dd0bd2dba4"
      },
      "execution_count": null,
      "outputs": [
        {
          "output_type": "stream",
          "name": "stdout",
          "text": [
            "Loss: 0.649937629699707\n",
            "Accuracy: 0.7651588320732117\n"
          ]
        }
      ]
    },
    {
      "cell_type": "code",
      "source": [
        "from sklearn import metrics\n",
        "from sklearn.metrics import average_precision_score, confusion_matrix, accuracy_score, classification_report, plot_confusion_matrix\n",
        "confusion_matrix(Y_test_en_us, y_pred_us)"
      ],
      "metadata": {
        "colab": {
          "base_uri": "https://localhost:8080/"
        },
        "id": "sD_tkfaLSVG2",
        "outputId": "adcd8484-999e-438c-be5d-b9b7e91e509c"
      },
      "execution_count": null,
      "outputs": [
        {
          "output_type": "execute_result",
          "data": {
            "text/plain": [
              "array([[  0,   0, 121,  51,   0,   0],\n",
              "       [  0,   0,  93,  54,   0,   0],\n",
              "       [  0,   0, 147,  42,   3,   0],\n",
              "       [  0,   0,  69,  96,   8,   0],\n",
              "       [  0,   0,  12, 101,  68,   0],\n",
              "       [  0,   0,   0,  48, 126,   0]])"
            ]
          },
          "metadata": {},
          "execution_count": 127
        }
      ]
    },
    {
      "cell_type": "code",
      "source": [
        "#Plot 2 separate visuals.\n",
        "#Training Loss and Validation Loss\n",
        "import matplotlib.pyplot as plt\n",
        "# summarize history for loss\n",
        "plt.plot(train_us.history['loss'])\n",
        "plt.plot(train_us.history['val_loss'])\n",
        "plt.title('model loss')\n",
        "plt.ylabel('loss')\n",
        "plt.xlabel('epoch')\n",
        "plt.legend(['train', 'val'], loc='upper left')\n",
        "plt.show()"
      ],
      "metadata": {
        "colab": {
          "base_uri": "https://localhost:8080/",
          "height": 295
        },
        "id": "MXvrACXYSVLX",
        "outputId": "16a0b853-36b3-4d7f-e823-f9d46cb69750"
      },
      "execution_count": null,
      "outputs": [
        {
          "output_type": "display_data",
          "data": {
            "text/plain": [
              "<Figure size 432x288 with 1 Axes>"
            ],
            "image/png": "[encoded data removed]"
          },
          "metadata": {
            "needs_background": "light"
          }
        }
      ]
    },
    {
      "cell_type": "code",
      "source": [
        "#Training Accuracy and Validation Accuracy\n",
        "import matplotlib.pyplot as plt\n",
        "\n",
        "plt.plot(train_us.history['accuracy'])\n",
        "plt.plot(train_us.history['val_accuracy'])\n",
        "plt.title('model accuracy')\n",
        "plt.ylabel('accuracy')\n",
        "plt.xlabel('epoch')\n",
        "plt.legend(['train', 'Val'], loc='upper left')\n",
        "plt.show()"
      ],
      "metadata": {
        "colab": {
          "base_uri": "https://localhost:8080/",
          "height": 295
        },
        "id": "rl4xDxG4SVQB",
        "outputId": "1b42466f-ac16-42bc-c4cc-d5dad2ca7ef5"
      },
      "execution_count": null,
      "outputs": [
        {
          "output_type": "display_data",
          "data": {
            "text/plain": [
              "<Figure size 432x288 with 1 Axes>"
            ],
            "image/png": "[encoded data removed]"
          },
          "metadata": {
            "needs_background": "light"
          }
        }
      ]
    },
    {
      "cell_type": "markdown",
      "source": [
        "- The training loss is 0.4046 and validation loss is 0.5980\n",
        "- The training accuracy is 0.8396 and validation accuracy is 0.7827"
      ],
      "metadata": {
        "id": "4pbKDqPVS00i"
      }
    },
    {
      "cell_type": "markdown",
      "source": [
        "From the base model, it can be observed that there is a significant increase in both training and validation accuracy with the upsampled data and the overfitting is also reduced significantly."
      ],
      "metadata": {
        "id": "Papv2VHWTCqE"
      }
    },
    {
      "cell_type": "code",
      "source": [
        "#Model Building with dropout\n",
        "#Intialize the model\n",
        "model2_us1 = Sequential([Input(shape=(11,)),  ## Input layer\n",
        "                   Dense(150, activation='relu'), #hidden layer-1\n",
        "                   Dropout(0.1), #dropout after hidden layer 1\n",
        "                   Dense(70, activation='relu'), #hidden layer-2\n",
        "                   Dropout(0.1), #dropout after hidden layer 2\n",
        "                   Dense(50, activation='relu'), #hidden layer 3\n",
        "                   Dropout(0.1), #dropout after hidden layer 3\n",
        "                   Dense(6, activation='softmax')]) ## Output layer with 6 neurons"
      ],
      "metadata": {
        "id": "t1wsFoGgTSEA"
      },
      "execution_count": null,
      "outputs": []
    },
    {
      "cell_type": "code",
      "source": [
        "# Model Summary\n",
        "model2_us1.summary()"
      ],
      "metadata": {
        "colab": {
          "base_uri": "https://localhost:8080/"
        },
        "id": "jaBRl49PTePN",
        "outputId": "a80a6049-1df1-42d2-a165-8bbed3b238e1"
      },
      "execution_count": null,
      "outputs": [
        {
          "output_type": "stream",
          "name": "stdout",
          "text": [
            "Model: \"sequential_11\"\n",
            "_________________________________________________________________\n",
            " Layer (type)                Output Shape              Param #   \n",
            "=================================================================\n",
            " dense_44 (Dense)            (None, 150)               1800      \n",
            "                                                                 \n",
            " dropout_21 (Dropout)        (None, 150)               0         \n",
            "                                                                 \n",
            " dense_45 (Dense)            (None, 70)                10570     \n",
            "                                                                 \n",
            " dropout_22 (Dropout)        (None, 70)                0         \n",
            "                                                                 \n",
            " dense_46 (Dense)            (None, 50)                3550      \n",
            "                                                                 \n",
            " dropout_23 (Dropout)        (None, 50)                0         \n",
            "                                                                 \n",
            " dense_47 (Dense)            (None, 6)                 306       \n",
            "                                                                 \n",
            "=================================================================\n",
            "Total params: 16,226\n",
            "Trainable params: 16,226\n",
            "Non-trainable params: 0\n",
            "_________________________________________________________________\n"
          ]
        }
      ]
    },
    {
      "cell_type": "code",
      "source": [
        "chkpt_us1 = ModelCheckpoint('/content/checkpoint', monitor='val_loss', save_best_only=True,save_freq='epoch')\n",
        "callback_new1_us1 = tf.keras.callbacks.EarlyStopping(monitor='val_loss',restore_best_weights=True)\n",
        "model2_us1.compile(optimizer=tf.keras.optimizers.Adam(learning_rate=0.000142), \n",
        "              loss='categorical_crossentropy', metrics=['accuracy']) "
      ],
      "metadata": {
        "id": "I2oRbTgVTeTl"
      },
      "execution_count": null,
      "outputs": []
    },
    {
      "cell_type": "code",
      "source": [
        "# Fitting the model\n",
        "train2_us1 = model2_us1.fit(X_train_sc_us, Y_train_us, \n",
        "                  validation_data=(X_val_sc_us,Y_val_us), \n",
        "                  epochs=40,batch_size=89)"
      ],
      "metadata": {
        "colab": {
          "base_uri": "https://localhost:8080/"
        },
        "id": "fLMCUXSiTeYU",
        "outputId": "9e542bd4-e7d6-40f3-dcc6-e1076a302481"
      },
      "execution_count": null,
      "outputs": [
        {
          "output_type": "stream",
          "name": "stdout",
          "text": [
            "Epoch 1/40\n",
            "20/20 [==============================] - 1s 15ms/step - loss: 0.0633 - accuracy: 0.9817 - val_loss: 0.9008 - val_accuracy: 0.8391\n",
            "Epoch 2/40\n",
            "20/20 [==============================] - 0s 5ms/step - loss: 0.0669 - accuracy: 0.9758 - val_loss: 0.8949 - val_accuracy: 0.8418\n",
            "Epoch 3/40\n",
            "20/20 [==============================] - 0s 5ms/step - loss: 0.0687 - accuracy: 0.9764 - val_loss: 0.8968 - val_accuracy: 0.8432\n",
            "Epoch 4/40\n",
            "20/20 [==============================] - 0s 5ms/step - loss: 0.0605 - accuracy: 0.9782 - val_loss: 0.9024 - val_accuracy: 0.8418\n",
            "Epoch 5/40\n",
            "20/20 [==============================] - 0s 5ms/step - loss: 0.0574 - accuracy: 0.9811 - val_loss: 0.9023 - val_accuracy: 0.8377\n",
            "Epoch 6/40\n",
            "20/20 [==============================] - 0s 5ms/step - loss: 0.0633 - accuracy: 0.9800 - val_loss: 0.9095 - val_accuracy: 0.8391\n",
            "Epoch 7/40\n",
            "20/20 [==============================] - 0s 5ms/step - loss: 0.0625 - accuracy: 0.9794 - val_loss: 0.9069 - val_accuracy: 0.8391\n",
            "Epoch 8/40\n",
            "20/20 [==============================] - 0s 5ms/step - loss: 0.0598 - accuracy: 0.9752 - val_loss: 0.9049 - val_accuracy: 0.8377\n",
            "Epoch 9/40\n",
            "20/20 [==============================] - 0s 5ms/step - loss: 0.0729 - accuracy: 0.9752 - val_loss: 0.9034 - val_accuracy: 0.8391\n",
            "Epoch 10/40\n",
            "20/20 [==============================] - 0s 6ms/step - loss: 0.0629 - accuracy: 0.9805 - val_loss: 0.9029 - val_accuracy: 0.8377\n",
            "Epoch 11/40\n",
            "20/20 [==============================] - 0s 5ms/step - loss: 0.0586 - accuracy: 0.9776 - val_loss: 0.9093 - val_accuracy: 0.8363\n",
            "Epoch 12/40\n",
            "20/20 [==============================] - 0s 5ms/step - loss: 0.0611 - accuracy: 0.9758 - val_loss: 0.9180 - val_accuracy: 0.8418\n",
            "Epoch 13/40\n",
            "20/20 [==============================] - 0s 5ms/step - loss: 0.0600 - accuracy: 0.9800 - val_loss: 0.9157 - val_accuracy: 0.8418\n",
            "Epoch 14/40\n",
            "20/20 [==============================] - 0s 5ms/step - loss: 0.0794 - accuracy: 0.9717 - val_loss: 0.9054 - val_accuracy: 0.8459\n",
            "Epoch 15/40\n",
            "20/20 [==============================] - 0s 5ms/step - loss: 0.0597 - accuracy: 0.9800 - val_loss: 0.9016 - val_accuracy: 0.8459\n",
            "Epoch 16/40\n",
            "20/20 [==============================] - 0s 5ms/step - loss: 0.0596 - accuracy: 0.9800 - val_loss: 0.9067 - val_accuracy: 0.8459\n",
            "Epoch 17/40\n",
            "20/20 [==============================] - 0s 6ms/step - loss: 0.0678 - accuracy: 0.9764 - val_loss: 0.9104 - val_accuracy: 0.8459\n",
            "Epoch 18/40\n",
            "20/20 [==============================] - 0s 6ms/step - loss: 0.0640 - accuracy: 0.9758 - val_loss: 0.9109 - val_accuracy: 0.8446\n",
            "Epoch 19/40\n",
            "20/20 [==============================] - 0s 7ms/step - loss: 0.0629 - accuracy: 0.9770 - val_loss: 0.9113 - val_accuracy: 0.8473\n",
            "Epoch 20/40\n",
            "20/20 [==============================] - 0s 6ms/step - loss: 0.0678 - accuracy: 0.9729 - val_loss: 0.9126 - val_accuracy: 0.8432\n",
            "Epoch 21/40\n",
            "20/20 [==============================] - 0s 6ms/step - loss: 0.0578 - accuracy: 0.9805 - val_loss: 0.9147 - val_accuracy: 0.8432\n",
            "Epoch 22/40\n",
            "20/20 [==============================] - 0s 6ms/step - loss: 0.0541 - accuracy: 0.9794 - val_loss: 0.9200 - val_accuracy: 0.8404\n",
            "Epoch 23/40\n",
            "20/20 [==============================] - 0s 7ms/step - loss: 0.0724 - accuracy: 0.9794 - val_loss: 0.9157 - val_accuracy: 0.8418\n",
            "Epoch 24/40\n",
            "20/20 [==============================] - 0s 6ms/step - loss: 0.0652 - accuracy: 0.9746 - val_loss: 0.9099 - val_accuracy: 0.8432\n",
            "Epoch 25/40\n",
            "20/20 [==============================] - 0s 9ms/step - loss: 0.0557 - accuracy: 0.9864 - val_loss: 0.9105 - val_accuracy: 0.8459\n",
            "Epoch 26/40\n",
            "20/20 [==============================] - 0s 6ms/step - loss: 0.0594 - accuracy: 0.9746 - val_loss: 0.9171 - val_accuracy: 0.8432\n",
            "Epoch 27/40\n",
            "20/20 [==============================] - 0s 6ms/step - loss: 0.0526 - accuracy: 0.9823 - val_loss: 0.9223 - val_accuracy: 0.8404\n",
            "Epoch 28/40\n",
            "20/20 [==============================] - 0s 6ms/step - loss: 0.0595 - accuracy: 0.9758 - val_loss: 0.9196 - val_accuracy: 0.8446\n",
            "Epoch 29/40\n",
            "20/20 [==============================] - 0s 6ms/step - loss: 0.0664 - accuracy: 0.9752 - val_loss: 0.9126 - val_accuracy: 0.8404\n",
            "Epoch 30/40\n",
            "20/20 [==============================] - 0s 6ms/step - loss: 0.0614 - accuracy: 0.9758 - val_loss: 0.9134 - val_accuracy: 0.8404\n",
            "Epoch 31/40\n",
            "20/20 [==============================] - 0s 6ms/step - loss: 0.0561 - accuracy: 0.9841 - val_loss: 0.9117 - val_accuracy: 0.8391\n",
            "Epoch 32/40\n",
            "20/20 [==============================] - 0s 5ms/step - loss: 0.0726 - accuracy: 0.9705 - val_loss: 0.9111 - val_accuracy: 0.8432\n",
            "Epoch 33/40\n",
            "20/20 [==============================] - 0s 7ms/step - loss: 0.0557 - accuracy: 0.9805 - val_loss: 0.9067 - val_accuracy: 0.8501\n",
            "Epoch 34/40\n",
            "20/20 [==============================] - 0s 5ms/step - loss: 0.0561 - accuracy: 0.9847 - val_loss: 0.9123 - val_accuracy: 0.8446\n",
            "Epoch 35/40\n",
            "20/20 [==============================] - 0s 7ms/step - loss: 0.0690 - accuracy: 0.9741 - val_loss: 0.9122 - val_accuracy: 0.8446\n",
            "Epoch 36/40\n",
            "20/20 [==============================] - 0s 6ms/step - loss: 0.0619 - accuracy: 0.9782 - val_loss: 0.9166 - val_accuracy: 0.8377\n",
            "Epoch 37/40\n",
            "20/20 [==============================] - 0s 6ms/step - loss: 0.0597 - accuracy: 0.9805 - val_loss: 0.9244 - val_accuracy: 0.8363\n",
            "Epoch 38/40\n",
            "20/20 [==============================] - 0s 6ms/step - loss: 0.0592 - accuracy: 0.9829 - val_loss: 0.9314 - val_accuracy: 0.8377\n",
            "Epoch 39/40\n",
            "20/20 [==============================] - 0s 6ms/step - loss: 0.0644 - accuracy: 0.9711 - val_loss: 0.9302 - val_accuracy: 0.8377\n",
            "Epoch 40/40\n",
            "20/20 [==============================] - 0s 5ms/step - loss: 0.0610 - accuracy: 0.9805 - val_loss: 0.9264 - val_accuracy: 0.8377\n"
          ]
        }
      ]
    },
    {
      "cell_type": "markdown",
      "source": [
        "- The training loss is 0.0610 and validation loss is 0.9264\n",
        "- The training accuracy is 0.9805 and validation accuracy is 0.8377"
      ],
      "metadata": {
        "id": "cZVeATqpWzOI"
      }
    },
    {
      "cell_type": "code",
      "source": [
        "# Predicting X_test basis the built model\n",
        "y_pred2_us = np.argmax(model2_us.predict(X_test_sc_us), axis=1)\n",
        "y_pred2_us"
      ],
      "metadata": {
        "colab": {
          "base_uri": "https://localhost:8080/"
        },
        "id": "ZegKLH19Tec-",
        "outputId": "1491f357-f7cd-46a0-b7d7-cb9a97c644ed"
      },
      "execution_count": null,
      "outputs": [
        {
          "output_type": "execute_result",
          "data": {
            "text/plain": [
              "array([5, 2, 0, ..., 2, 4, 4])"
            ]
          },
          "metadata": {},
          "execution_count": 218
        }
      ]
    },
    {
      "cell_type": "code",
      "source": [
        "# Final evaluation of the model\n",
        "scores_us1 = model2_us1.evaluate(X_test_sc_us, Y_test_us, verbose=0)\n",
        "print(\"Loss:\", scores_us1[0])\n",
        "print(\"Accuracy:\", scores_us1[1])"
      ],
      "metadata": {
        "colab": {
          "base_uri": "https://localhost:8080/"
        },
        "id": "4A873_fmTeiC",
        "outputId": "354824ba-ec12-4016-de53-49d6ae1a7602"
      },
      "execution_count": null,
      "outputs": [
        {
          "output_type": "stream",
          "name": "stdout",
          "text": [
            "Loss: 1.1382566690444946\n",
            "Accuracy: 0.7882579565048218\n"
          ]
        }
      ]
    },
    {
      "cell_type": "code",
      "source": [
        "from sklearn import metrics\n",
        "from sklearn.metrics import average_precision_score, confusion_matrix, accuracy_score, classification_report, plot_confusion_matrix\n",
        "confusion_matrix(Y_test_en_us, y_pred2_us)"
      ],
      "metadata": {
        "colab": {
          "base_uri": "https://localhost:8080/"
        },
        "id": "_yJTOJ7sTenR",
        "outputId": "f036b6e4-7dca-4f78-b2d9-657c1e50a3ad"
      },
      "execution_count": null,
      "outputs": [
        {
          "output_type": "execute_result",
          "data": {
            "text/plain": [
              "array([[147,  18,   7,   0,   0,   0],\n",
              "       [ 24,  97,  19,   7,   0,   0],\n",
              "       [ 17,  33, 100,  36,   2,   4],\n",
              "       [  6,  28,  46,  57,  22,  14],\n",
              "       [  2,   1,   6,  36,  73,  63],\n",
              "       [  0,   0,   0,   0,   1, 173]])"
            ]
          },
          "metadata": {},
          "execution_count": 220
        }
      ]
    },
    {
      "cell_type": "markdown",
      "source": [
        "### Model trained with upsampled data - \n",
        "\n",
        "Model 1 ( Base Model ) -\n",
        "\n",
        "- The training loss is 0.4046 and validation loss is 0.5980\n",
        "- The training accuracy is 0.8396 and validation accuracy is 0.7827\n",
        "- The test accuracy is 0.7652\n",
        "\n",
        "Model 2 ( With Dropout ) -\n",
        "\n",
        "- The training loss is 0.0610 and validation loss is 0.9264\n",
        "- The training accuracy is 0.9805 and validation accuracy is 0.8377\n",
        "- The test accuracy is 0.7883\n",
        "\n",
        "The training reduced significantly from the base model to the model with dropout\n",
        "\n",
        "The training and validation accuracy increased significantly from the base model to the model with dropout\n",
        "\n",
        "**Out of the 2 models, it is observed that the model with Dropout performed the best with a test accuracy of 0.7883**\n",
        "\n",
        "**Hence, it can be observed that the model trained with upsampled data gave a better accuracy of 0.7883 than the one without oversampling which gave an accuracy of 0.6152.**"
      ],
      "metadata": {
        "id": "CYZkZpLToKlc"
      }
    }
  ]
}